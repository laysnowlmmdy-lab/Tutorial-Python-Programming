{
 "cells": [
  {
   "cell_type": "code",
   "execution_count": 1,
   "metadata": {
    "ExecuteTime": {
     "end_time": "2022-04-11T08:47:54.639606Z",
     "start_time": "2022-04-11T08:47:54.614575Z"
    },
    "execution": {
     "iopub.execute_input": "2025-09-05T08:54:04.960645Z",
     "iopub.status.busy": "2025-09-05T08:54:04.960645Z",
     "iopub.status.idle": "2025-09-05T08:54:04.972985Z",
     "shell.execute_reply": "2025-09-05T08:54:04.972985Z",
     "shell.execute_reply.started": "2025-09-05T08:54:04.960645Z"
    },
    "tags": []
   },
   "outputs": [
    {
     "name": "stdout",
     "output_type": "stream",
     "text": [
      "Intel64 Family 6 Model 186 Stepping 2, GenuineIntel\n",
      "32(GB)\n",
      "Windows\n",
      "10.0.26100\n",
      "C:\\DataScience\\Lecture\\[DataScience]\n",
      "2024-12-12 00:34:16.155373\n",
      "2025-09-05 17:53:54.975277\n",
      "2025-09-05 17:53:54.975277\n",
      "2025-09-05 17:54:04.970644\n",
      "다음 출력을 파일명으로 설정하고 제출하시오: 김경원_20211011_비즈니스혁신을위한데이터사이언스응용_1반_FunctionQ\n"
     ]
    }
   ],
   "source": [
    "# 반드시 이 cell을 실행하시오\n",
    "# 실행하지 않을 시 직접 하지 않은 것으로 간주\n",
    "# 마지막 줄 출력으로 파일명을 설정하고 제출 필수\n",
    "import platform, psutil, os, datetime\n",
    "print(platform.processor())\n",
    "print(str(round(psutil.virtual_memory().total / (1024.0 **3)))+\"(GB)\")\n",
    "print(platform.system())\n",
    "print(platform.version())\n",
    "print(os.getcwd())\n",
    "print(datetime.datetime.fromtimestamp(os.path.getctime(os.getcwd())))\n",
    "print(datetime.datetime.fromtimestamp(os.path.getmtime(os.getcwd())))\n",
    "print(datetime.datetime.fromtimestamp(os.path.getatime(os.getcwd())))\n",
    "print(datetime.datetime.now())\n",
    "title = 'FunctionQ'    # 고정값\n",
    "name = '김경원'    # 본인 이름을 작성\n",
    "studentid = '20211011'    # 본인 학번을 작성\n",
    "course = '비즈니스혁신을위한데이터사이언스응용'    # '비즈니스데이터사이언스이해', '비즈니스혁신을위한데이터사이언스응용'\n",
    "course_number = '1반'    #  학수번호 끝자리\n",
    "                         # 비즈니스데이터사이언스의이해 (0010885001) => 1반\n",
    "                         # 비즈니스데이터사이언스의이해 (0010885002) => 2반\n",
    "                         # 비즈니스혁신을위한데이터사이언스응용 (1002667001) => 1반\n",
    "print('다음 출력을 파일명으로 설정하고 제출하시오:', name + '_' + studentid + '_' + course + '_' + course_number + '_' + title)"
   ]
  },
  {
   "cell_type": "markdown",
   "metadata": {},
   "source": [
    "- **Question:** 언패킹 매개변수(`*args`)를 사용하여, 입력된 교과목 점수들 중 최고점수를 출력하는 프로그램(함수)를 `get_max_score`라는 이름으로 만들고 아래 예제와 같이 3과목과 5과목의 교과목들 중 가장 높은 점수를 출력해 보시오\n",
    "\n",
    "```python\n",
    "# 프로그램(함수) 작성\n",
    "\n",
    "\n",
    "# 입력 후보\n",
    "korean, english, mathematics, science, history = 100, 86, 81, 91, 95\n",
    "\n",
    "# 3과목 입력 프로그램 및 결과\n",
    "max_score = get_max_score(korean, english, mathematics)\n",
    "print('높은점수: ', max_score)\n",
    "\n",
    "# 5과목 입력 프로그램 및 결과\n",
    "max_score = get_max_score(korean, english, mathematics, science, history)\n",
    "print('높은점수: ', max_score)\n",
    "```"
   ]
  },
  {
   "cell_type": "code",
   "execution_count": 2,
   "metadata": {
    "ExecuteTime": {
     "end_time": "2022-04-11T08:39:38.082577Z",
     "start_time": "2022-04-11T08:39:38.067577Z"
    },
    "execution": {
     "iopub.execute_input": "2025-09-05T08:54:04.974992Z",
     "iopub.status.busy": "2025-09-05T08:54:04.973997Z",
     "iopub.status.idle": "2025-09-05T08:54:04.978980Z",
     "shell.execute_reply": "2025-09-05T08:54:04.978980Z",
     "shell.execute_reply.started": "2025-09-05T08:54:04.974992Z"
    }
   },
   "outputs": [],
   "source": [
    "# 프로그램(함수) 작성\n",
    "\n",
    "\n",
    "# 입력 후보\n",
    "korean, english, mathematics, science, history = 100, 86, 81, 91, 95\n",
    "\n",
    "# # 3과목 입력 프로그램 및 결과\n",
    "# max_score = get_max_score(korean, english, mathematics)\n",
    "# print('높은점수: ', max_score)\n",
    "\n",
    "# # 5과목 입력 프로그램 및 결과\n",
    "# max_score = get_max_score(korean, english, mathematics, science, history)\n",
    "# print('높은점수: ', max_score)"
   ]
  },
  {
   "cell_type": "markdown",
   "metadata": {},
   "source": [
    "- **Question:** 입력 갯수와 상관없이 `최소값, 최대값, 평균값`을   프로그램을 만들고, 임의의 입력값 5개와 8개일때의 `최소값, 최대값, 평균값`을 출력하시오"
   ]
  },
  {
   "cell_type": "code",
   "execution_count": 3,
   "metadata": {
    "ExecuteTime": {
     "end_time": "2022-04-11T08:39:38.097575Z",
     "start_time": "2022-04-11T08:39:38.084579Z"
    },
    "execution": {
     "iopub.execute_input": "2025-09-05T08:54:04.980989Z",
     "iopub.status.busy": "2025-09-05T08:54:04.979989Z",
     "iopub.status.idle": "2025-09-05T08:54:04.988493Z",
     "shell.execute_reply": "2025-09-05T08:54:04.988493Z",
     "shell.execute_reply.started": "2025-09-05T08:54:04.980989Z"
    }
   },
   "outputs": [],
   "source": [
    "# 프로그램(함수) 작성\n",
    "\n",
    "\n",
    "# 임의 입력 5개 사용 출력 확인\n",
    "\n",
    "\n",
    "# 임의 입력 8개 사용 출력 확인\n",
    "\n"
   ]
  },
  {
   "cell_type": "code",
   "execution_count": 4,
   "metadata": {
    "ExecuteTime": {
     "end_time": "2022-04-11T08:39:38.263576Z",
     "start_time": "2022-04-11T08:39:38.249577Z"
    },
    "execution": {
     "iopub.execute_input": "2025-09-05T08:54:04.990502Z",
     "iopub.status.busy": "2025-09-05T08:54:04.989501Z",
     "iopub.status.idle": "2025-09-05T08:54:04.998503Z",
     "shell.execute_reply": "2025-09-05T08:54:04.998503Z",
     "shell.execute_reply.started": "2025-09-05T08:54:04.990502Z"
    }
   },
   "outputs": [],
   "source": [
    "# 일반 변수로 입력시 key만 인식\n"
   ]
  },
  {
   "cell_type": "markdown",
   "metadata": {
    "ExecuteTime": {
     "end_time": "2022-04-05T16:40:29.300479Z",
     "start_time": "2022-04-05T16:40:29.286477Z"
    }
   },
   "source": [
    "- **Question:** 가격이 100만원인 스마트폰을 구매하려고 하는데 `현재 가지고 있는 돈이 80만원`이다. 출생년도가 2000년까지는 10%를 그리고 2001년부터 출생하였으면 30%를 학생할인가격으로 구매할 수 있는데, `본인의 생년월일 6자리와 현재 가지고 있는 돈 80만원 총 2가지`를 입력받아 구매가 가능하면 `구매가 완료되었습니다 축하합니다!`를 그렇지 않으면 `잔액이 부족합니다...`를 출력하는 매장비서 프로그램을 만들어 `본인의 결과`를 출력하시오\n",
    "\n",
    "```python\n",
    "# 프로그램(함수) 작성\n",
    "\n",
    "\n",
    "# 본인 생년월일 6가지와 80만원 입력받아 결과 출력\n",
    "# 입력예시: 함수명(201104, 800000)\n",
    "# 출력예시: '구매가 완료되었습니다 축하합니다!'\n",
    "\n",
    "\n",
    "```"
   ]
  },
  {
   "cell_type": "code",
   "execution_count": 5,
   "metadata": {
    "ExecuteTime": {
     "end_time": "2022-04-11T08:39:38.824575Z",
     "start_time": "2022-04-11T08:39:38.811576Z"
    },
    "execution": {
     "iopub.execute_input": "2025-09-05T08:54:05.000851Z",
     "iopub.status.busy": "2025-09-05T08:54:04.999851Z",
     "iopub.status.idle": "2025-09-05T08:54:05.007359Z",
     "shell.execute_reply": "2025-09-05T08:54:05.007359Z",
     "shell.execute_reply.started": "2025-09-05T08:54:05.000851Z"
    }
   },
   "outputs": [],
   "source": [
    "# 프로그램(함수) 작성\n",
    "\n",
    "\n",
    "# 본인 생년월일 6가지와 80만원 입력받아 결과 출력\n",
    "# 입력예시: 함수명(201104, 800000)\n",
    "# 출력예시: '구매가 완료되었습니다 축하합니다!'\n",
    "\n"
   ]
  },
  {
   "cell_type": "markdown",
   "metadata": {},
   "source": [
    "- **Question:** 위 로또번호 생성기에, 1) `continue/break` 문을 사용하여 중복되지 않는 번호 6개를 출력하는 프로그램(함수)을 `lotto`라는 이름으로 만들고, 2) 아래 코드 실행시 45이내의 정수 중 중복되지 않는 로또번호가 6개를 출력하시오\n",
    "\n",
    "```python\n",
    "# 프로그램\n",
    "\n",
    "# 로또번호 생성\n",
    "y = lotto(45)\n",
    "y\n",
    "```"
   ]
  },
  {
   "cell_type": "code",
   "execution_count": 6,
   "metadata": {
    "ExecuteTime": {
     "end_time": "2022-04-11T08:39:39.143574Z",
     "start_time": "2022-04-11T08:39:39.128577Z"
    },
    "execution": {
     "iopub.execute_input": "2025-09-05T08:54:05.009364Z",
     "iopub.status.busy": "2025-09-05T08:54:05.008364Z",
     "iopub.status.idle": "2025-09-05T08:54:05.017545Z",
     "shell.execute_reply": "2025-09-05T08:54:05.016539Z",
     "shell.execute_reply.started": "2025-09-05T08:54:05.009364Z"
    }
   },
   "outputs": [],
   "source": [
    "# 로또 프로그램 작성\n",
    "import random\n",
    "\n",
    "\n",
    "\n",
    "\n",
    "# 로또번호 생성\n",
    "# y = lotto(45)\n",
    "# y"
   ]
  },
  {
   "cell_type": "markdown",
   "metadata": {},
   "source": [
    "- **Question:** 아래 2개의 변수값을 입력받아 1) `몫`을 구하는 프로그램, 2) `나머지`를 구하는 프로그램, 3) 그리고 1)과2)를 중첩함수로 `한꺼번에 몫과 나머지`를 출력하는 프로그램을 작성하고, 4) 3)에서 만든 프로그램을 이용해 아래 `예시의 입력에 대한 몫과 나머지를 출력`하시오\n",
    "\n",
    "```python\n",
    "# 프로그램(함수)\n",
    "# 1) 몫을 출력하는 프로그램\n",
    "\n",
    "# 2) 나머지를 출력하는 프로그램\n",
    "\n",
    "# 3) 1)과 2) 함수를 사용하여 한꺼번에 몫과 나머지를 출력하는 프로그램\n",
    "\n",
    "\n",
    "# 입력\n",
    "# 3)에서 만든 프로그램 활용 몫과 나머지 출력\n",
    "x, y = 100, 33\n",
    "```"
   ]
  },
  {
   "cell_type": "code",
   "execution_count": 7,
   "metadata": {
    "ExecuteTime": {
     "end_time": "2024-10-24T14:57:31.541434Z",
     "start_time": "2024-10-24T14:57:31.532015Z"
    },
    "execution": {
     "iopub.execute_input": "2025-09-05T08:54:05.018545Z",
     "iopub.status.busy": "2025-09-05T08:54:05.017545Z",
     "iopub.status.idle": "2025-09-05T08:54:05.025433Z",
     "shell.execute_reply": "2025-09-05T08:54:05.025433Z",
     "shell.execute_reply.started": "2025-09-05T08:54:05.018545Z"
    }
   },
   "outputs": [],
   "source": [
    "# 프로그램(함수)\n",
    "# 1) 몫을 출력하는 프로그램\n",
    "\n",
    "# 2) 나머지를 출력하는 프로그램\n",
    "\n",
    "# 3) 1)과 2) 함수를 사용하여 한꺼번에 몫과 나머지를 출력하는 프로그램\n",
    "\n",
    "\n",
    "# 입력\n",
    "# 3)에서 만든 프로그램 활용 몫과 나머지 출력\n",
    "x, y = 100, 33\n",
    "\n",
    "# 출력\n",
    "\n"
   ]
  },
  {
   "cell_type": "markdown",
   "metadata": {
    "ExecuteTime": {
     "end_time": "2022-04-05T16:54:18.975178Z",
     "start_time": "2022-04-05T16:54:18.968149Z"
    }
   },
   "source": [
    "- **Question:** 바로 위 문제에서 만든 3개의 프로그램(함수)에 내장함수처럼 설명을 반영하여 아래와 같은 설명을 출력하시오\n",
    "\n",
    "```python\n",
    "# 프로그램(함수)\n",
    "# 1) 몫을 출력하는 프로그램\n",
    "\n",
    "# 2) 나머지를 출력하는 프로그램\n",
    "\n",
    "# 3) 1)과 2) 함수 \"모두 사용\"하여 한꺼번에 몫과 나머지를 출력하는 프로그램\n",
    "\n",
    "\n",
    "# 출력\n",
    "# 1) '이 프로그램은 몫을 출력합니다.'\n",
    "\n",
    "# 2) '이 프로그램은 나머지를 출력합니다.'\n",
    "\n",
    "# 3) '이 프로그램은 몫과 나머지를 모두 출력합니다.'\n",
    "```"
   ]
  },
  {
   "cell_type": "code",
   "execution_count": null,
   "metadata": {},
   "outputs": [],
   "source": [
    "\n"
   ]
  },
  {
   "cell_type": "markdown",
   "metadata": {},
   "source": [
    "- **Question:** 아래의 코드의 출력결과를 이해하여 왜 50과 400이 출력되었는지 주석으로 작성하시오"
   ]
  },
  {
   "cell_type": "code",
   "execution_count": 8,
   "metadata": {
    "ExecuteTime": {
     "end_time": "2022-04-11T08:39:39.701576Z",
     "start_time": "2022-04-11T08:39:39.687577Z"
    },
    "execution": {
     "iopub.execute_input": "2025-09-05T08:54:05.026439Z",
     "iopub.status.busy": "2025-09-05T08:54:05.026439Z",
     "iopub.status.idle": "2025-09-05T08:54:05.035357Z",
     "shell.execute_reply": "2025-09-05T08:54:05.035357Z",
     "shell.execute_reply.started": "2025-09-05T08:54:05.026439Z"
    }
   },
   "outputs": [
    {
     "name": "stdout",
     "output_type": "stream",
     "text": [
      "50\n",
      "400\n"
     ]
    }
   ],
   "source": [
    "def A():\n",
    "    x = 10\n",
    "    y = 100\n",
    "    def B():\n",
    "        x = 20\n",
    "        def C():\n",
    "            nonlocal x\n",
    "            nonlocal y\n",
    "            x = x + 30\n",
    "            y = y + 300\n",
    "            print(x)\n",
    "            print(y)\n",
    "        C()\n",
    "    B()\n",
    " \n",
    "A()"
   ]
  },
  {
   "cell_type": "code",
   "execution_count": 9,
   "metadata": {
    "ExecuteTime": {
     "end_time": "2022-04-11T08:39:39.716575Z",
     "start_time": "2022-04-11T08:39:39.702576Z"
    },
    "execution": {
     "iopub.execute_input": "2025-09-05T08:54:05.039364Z",
     "iopub.status.busy": "2025-09-05T08:54:05.038364Z",
     "iopub.status.idle": "2025-09-05T08:54:05.044871Z",
     "shell.execute_reply": "2025-09-05T08:54:05.044365Z",
     "shell.execute_reply.started": "2025-09-05T08:54:05.039364Z"
    }
   },
   "outputs": [],
   "source": [
    "# 결과 설명\n",
    "#\n",
    "#"
   ]
  },
  {
   "cell_type": "markdown",
   "metadata": {},
   "source": [
    "- **Question:** 아래의 코드의 출력결과를 이해하여 왜 31이 출력되었는지 주석으로 작성하시오"
   ]
  },
  {
   "cell_type": "code",
   "execution_count": 10,
   "metadata": {
    "ExecuteTime": {
     "end_time": "2022-04-11T08:39:39.731575Z",
     "start_time": "2022-04-11T08:39:39.717577Z"
    },
    "execution": {
     "iopub.execute_input": "2025-09-05T08:54:05.045879Z",
     "iopub.status.busy": "2025-09-05T08:54:05.045879Z",
     "iopub.status.idle": "2025-09-05T08:54:05.054136Z",
     "shell.execute_reply": "2025-09-05T08:54:05.054136Z",
     "shell.execute_reply.started": "2025-09-05T08:54:05.045879Z"
    }
   },
   "outputs": [
    {
     "name": "stdout",
     "output_type": "stream",
     "text": [
      "31\n"
     ]
    }
   ],
   "source": [
    "x = 1\n",
    "def A():\n",
    "    x = 10\n",
    "    def B():\n",
    "        x = 20\n",
    "        def C():\n",
    "            global x\n",
    "            x = x + 30\n",
    "            print(x)\n",
    "        C()\n",
    "    B()\n",
    " \n",
    "A()"
   ]
  },
  {
   "cell_type": "code",
   "execution_count": 11,
   "metadata": {
    "ExecuteTime": {
     "end_time": "2022-04-11T08:39:39.746576Z",
     "start_time": "2022-04-11T08:39:39.732576Z"
    },
    "execution": {
     "iopub.execute_input": "2025-09-05T08:54:05.056143Z",
     "iopub.status.busy": "2025-09-05T08:54:05.056143Z",
     "iopub.status.idle": "2025-09-05T08:54:05.063178Z",
     "shell.execute_reply": "2025-09-05T08:54:05.062172Z",
     "shell.execute_reply.started": "2025-09-05T08:54:05.056143Z"
    }
   },
   "outputs": [],
   "source": [
    "# 결과 설명\n",
    "#\n",
    "#"
   ]
  },
  {
   "cell_type": "markdown",
   "metadata": {},
   "source": [
    "- **Question:** 람다 표현식을 사용하여 아래 파일 명 중 확장자가 `.jpg, .png`로 끝나는 이미지 파일만 리스트로 뽑아내는 프로그램을 작성하시오\n",
    "\n",
    "```python\n",
    "# 프로그램(함수) 작성\n",
    "\n",
    "\n",
    "# 입력\n",
    "files = ['font', '1.png', '10.jpg', '11.gif', '2.jpg', '3.png', 'table.xslx', 'spec.docx']\n",
    "\n",
    "# 출력\n",
    "\n",
    "```"
   ]
  },
  {
   "cell_type": "code",
   "execution_count": 12,
   "metadata": {
    "execution": {
     "iopub.execute_input": "2025-09-05T08:54:05.064179Z",
     "iopub.status.busy": "2025-09-05T08:54:05.063178Z",
     "iopub.status.idle": "2025-09-05T08:54:05.070276Z",
     "shell.execute_reply": "2025-09-05T08:54:05.070276Z",
     "shell.execute_reply.started": "2025-09-05T08:54:05.064179Z"
    }
   },
   "outputs": [],
   "source": [
    "# 프로그램(함수) 작성\n",
    "\n",
    "\n",
    "# 입력\n",
    "files = ['font', '1.png', '10.jpg', '11.gif', '2.jpg', '3.png', 'table.xslx', 'spec.docx']\n",
    "\n",
    "# 출력\n",
    "\n"
   ]
  },
  {
   "cell_type": "markdown",
   "metadata": {},
   "source": [
    "- **Question:** 위와 동일한 결과를 출력하기 위해, `def` 명령을 사용하여 함수 `f`를 작성하고 아래의 입력을 받아 동일한 결과를 출력하시오\n",
    "\n",
    "```python\n",
    "# 프로그램(함수) 작성\n",
    "\n",
    "\n",
    "# 입력\n",
    "a = [1, 2, 3, 4, 5, 6, 7, 8, 9, 10]\n",
    "\n",
    "# 예상출력: [11, 12, '3', 14, 5.0, '6', 17, 18, '9', 10.0]\n",
    "list(map(f, a))\n",
    "```"
   ]
  },
  {
   "cell_type": "code",
   "execution_count": 13,
   "metadata": {
    "ExecuteTime": {
     "end_time": "2022-04-11T08:39:40.003575Z",
     "start_time": "2022-04-11T08:39:39.989577Z"
    },
    "execution": {
     "iopub.execute_input": "2025-09-05T08:54:05.071282Z",
     "iopub.status.busy": "2025-09-05T08:54:05.071282Z",
     "iopub.status.idle": "2025-09-05T08:54:05.078629Z",
     "shell.execute_reply": "2025-09-05T08:54:05.078629Z",
     "shell.execute_reply.started": "2025-09-05T08:54:05.071282Z"
    }
   },
   "outputs": [],
   "source": [
    "# 프로그램(함수) 작성\n",
    "\n",
    "\n",
    "# 입력\n",
    "a = [1, 2, 3, 4, 5, 6, 7, 8, 9, 10]\n",
    "\n",
    "# 예상출력: [11, 12, '3', 14, 5.0, '6', 17, 18, '9', 10.0]\n",
    "# list(map(f, a))"
   ]
  },
  {
   "cell_type": "code",
   "execution_count": 14,
   "metadata": {
    "ExecuteTime": {
     "end_time": "2022-04-11T08:48:00.603605Z",
     "start_time": "2022-04-11T08:48:00.594575Z"
    },
    "execution": {
     "iopub.execute_input": "2025-09-05T08:54:05.079635Z",
     "iopub.status.busy": "2025-09-05T08:54:05.079635Z",
     "iopub.status.idle": "2025-09-05T08:54:05.089143Z",
     "shell.execute_reply": "2025-09-05T08:54:05.089143Z",
     "shell.execute_reply.started": "2025-09-05T08:54:05.079635Z"
    },
    "tags": []
   },
   "outputs": [
    {
     "name": "stdout",
     "output_type": "stream",
     "text": [
      "Intel64 Family 6 Model 186 Stepping 2, GenuineIntel\n",
      "32(GB)\n",
      "Windows\n",
      "10.0.26100\n",
      "C:\\DataScience\\Lecture\\[DataScience]\n",
      "2024-12-12 00:34:16.155373\n",
      "2025-09-05 17:53:54.975277\n",
      "2025-09-05 17:53:54.975277\n",
      "2025-09-05 17:54:05.086635\n",
      "다음 출력을 파일명으로 설정하고 제출하시오: 김경원_20211011_비즈니스혁신을위한데이터사이언스응용_1반_FunctionQ\n"
     ]
    }
   ],
   "source": [
    "# 반드시 이 cell을 실행하시오\n",
    "# 실행하지 않을 시 직접 하지 않은 것으로 간주\n",
    "# 마지막 줄 출력으로 파일명을 설정하고 제출 필수\n",
    "import platform, psutil, os, datetime\n",
    "print(platform.processor())\n",
    "print(str(round(psutil.virtual_memory().total / (1024.0 **3)))+\"(GB)\")\n",
    "print(platform.system())\n",
    "print(platform.version())\n",
    "print(os.getcwd())\n",
    "print(datetime.datetime.fromtimestamp(os.path.getctime(os.getcwd())))\n",
    "print(datetime.datetime.fromtimestamp(os.path.getmtime(os.getcwd())))\n",
    "print(datetime.datetime.fromtimestamp(os.path.getatime(os.getcwd())))\n",
    "print(datetime.datetime.now())\n",
    "title = 'FunctionQ'    # 고정값\n",
    "name = '김경원'    # 본인 이름을 작성\n",
    "studentid = '20211011'    # 본인 학번을 작성\n",
    "course = '비즈니스혁신을위한데이터사이언스응용'    # '비즈니스데이터사이언스이해', '비즈니스혁신을위한데이터사이언스응용'\n",
    "course_number = '1반'    #  학수번호 끝자리\n",
    "                         # 비즈니스데이터사이언스의이해 (0010885001) => 1반\n",
    "                         # 비즈니스데이터사이언스의이해 (0010885002) => 2반\n",
    "                         # 비즈니스혁신을위한데이터사이언스응용 (1002667001) => 1반\n",
    "print('다음 출력을 파일명으로 설정하고 제출하시오:', name + '_' + studentid + '_' + course + '_' + course_number + '_' + title)"
   ]
  }
 ],
 "metadata": {
  "hide_input": false,
  "kernelspec": {
   "display_name": "Python 3 (ipykernel)",
   "language": "python",
   "name": "python3"
  },
  "language_info": {
   "codemirror_mode": {
    "name": "ipython",
    "version": 3
   },
   "file_extension": ".py",
   "mimetype": "text/x-python",
   "name": "python",
   "nbconvert_exporter": "python",
   "pygments_lexer": "ipython3",
   "version": "3.12.3"
  },
  "latex_envs": {
   "LaTeX_envs_menu_present": true,
   "autoclose": false,
   "autocomplete": true,
   "bibliofile": "biblio.bib",
   "cite_by": "apalike",
   "current_citInitial": 1,
   "eqLabelWithNumbers": true,
   "eqNumInitial": 1,
   "hotkeys": {
    "equation": "Ctrl-E",
    "itemize": "Ctrl-I"
   },
   "labels_anchors": false,
   "latex_user_defs": false,
   "report_style_numbering": false,
   "user_envs_cfg": false
  },
  "toc": {
   "base_numbering": 1,
   "nav_menu": {},
   "number_sections": true,
   "sideBar": true,
   "skip_h1_title": false,
   "title_cell": "Table of Contents",
   "title_sidebar": "Contents",
   "toc_cell": false,
   "toc_position": {
    "height": "calc(100% - 180px)",
    "left": "10px",
    "top": "150px",
    "width": "392.271px"
   },
   "toc_section_display": true,
   "toc_window_display": true
  },
  "varInspector": {
   "cols": {
    "lenName": 16,
    "lenType": 16,
    "lenVar": 40
   },
   "kernels_config": {
    "python": {
     "delete_cmd_postfix": "",
     "delete_cmd_prefix": "del ",
     "library": "var_list.py",
     "varRefreshCmd": "print(var_dic_list())"
    },
    "r": {
     "delete_cmd_postfix": ") ",
     "delete_cmd_prefix": "rm(",
     "library": "var_list.r",
     "varRefreshCmd": "cat(var_dic_list()) "
    }
   },
   "position": {
    "height": "144.667px",
    "left": "1346.67px",
    "right": "20px",
    "top": "141px",
    "width": "350px"
   },
   "types_to_exclude": [
    "module",
    "function",
    "builtin_function_or_method",
    "instance",
    "_Feature"
   ],
   "window_display": false
  }
 },
 "nbformat": 4,
 "nbformat_minor": 4
}
