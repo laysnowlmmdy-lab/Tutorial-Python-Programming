{
 "cells": [
  {
   "cell_type": "code",
   "execution_count": 1,
   "metadata": {
    "ExecuteTime": {
     "end_time": "2022-03-24T06:15:42.961011Z",
     "start_time": "2022-03-24T06:15:42.924013Z"
    },
    "execution": {
     "iopub.execute_input": "2025-09-05T08:56:33.626154Z",
     "iopub.status.busy": "2025-09-05T08:56:33.625152Z",
     "iopub.status.idle": "2025-09-05T08:56:33.640534Z",
     "shell.execute_reply": "2025-09-05T08:56:33.639524Z",
     "shell.execute_reply.started": "2025-09-05T08:56:33.626154Z"
    }
   },
   "outputs": [
    {
     "name": "stdout",
     "output_type": "stream",
     "text": [
      "Intel64 Family 6 Model 186 Stepping 2, GenuineIntel\n",
      "32(GB)\n",
      "Windows\n",
      "10.0.26100\n",
      "C:\\DataScience\\Lecture\\[DataScience]\n",
      "2024-12-12 00:34:16.155373\n",
      "2025-09-05 17:56:16.599021\n",
      "2025-09-05 17:56:16.599021\n",
      "2025-09-05 17:56:33.636152\n",
      "다음 출력을 파일명으로 설정하고 제출하시오: 김경원_20211011_비즈니스혁신을위한데이터사이언스응용_1반_InputOutputQ\n"
     ]
    }
   ],
   "source": [
    "# 반드시 이 cell을 실행하시오\n",
    "# 실행하지 않을 시 직접 하지 않은 것으로 간주\n",
    "# 마지막 줄 출력으로 파일명을 설정하고 제출 필수\n",
    "import platform, psutil, os, datetime\n",
    "print(platform.processor())\n",
    "print(str(round(psutil.virtual_memory().total / (1024.0 **3)))+\"(GB)\")\n",
    "print(platform.system())\n",
    "print(platform.version())\n",
    "print(os.getcwd())\n",
    "print(datetime.datetime.fromtimestamp(os.path.getctime(os.getcwd())))\n",
    "print(datetime.datetime.fromtimestamp(os.path.getmtime(os.getcwd())))\n",
    "print(datetime.datetime.fromtimestamp(os.path.getatime(os.getcwd())))\n",
    "print(datetime.datetime.now())\n",
    "title = 'InputOutputQ'    # 고정값\n",
    "name = '김경원'    # 본인 이름을 작성\n",
    "studentid = '20211011'    # 본인 학번을 작성\n",
    "course = '비즈니스혁신을위한데이터사이언스응용'    # '비즈니스데이터사이언스이해', '비즈니스혁신을위한데이터사이언스응용'\n",
    "course_number = '1반'    #  학수번호 끝자리\n",
    "                         # 비즈니스데이터사이언스의이해 (0010885001) => 1반\n",
    "                         # 비즈니스데이터사이언스의이해 (0010885002) => 2반\n",
    "                         # 비즈니스혁신을위한데이터사이언스응용 (1002667001) => 1반\n",
    "print('다음 출력을 파일명으로 설정하고 제출하시오:', name + '_' + studentid + '_' + course + '_' + course_number + '_' + title)"
   ]
  },
  {
   "cell_type": "markdown",
   "metadata": {},
   "source": [
    "- **Question:** 아래 결과가 출력되도록 코딩하시오('매우'는 13번 등장함)\n",
    "\n",
    "```python\n",
    "파이썬은 매우매우매우매우매우매우매우매우매우매우매우매우매우 쉽다.\n",
    "```"
   ]
  },
  {
   "cell_type": "code",
   "execution_count": null,
   "metadata": {
    "ExecuteTime": {
     "end_time": "2022-04-07T06:07:51.617429Z",
     "start_time": "2022-04-07T06:07:51.593456Z"
    }
   },
   "outputs": [],
   "source": [
    "\n"
   ]
  },
  {
   "cell_type": "markdown",
   "metadata": {},
   "source": [
    "- **Question:** 위 문제에서 출력된 결과를 `tuple`로 변환한 후 아래와 같이 `쉽다. -> 어렵다.`으로 변경하시오\n",
    "\n",
    "```python\n",
    "파이썬은 매우매우매우매우매우매우매우매우매우매우매우매우매우 어렵다.\n",
    "```"
   ]
  },
  {
   "cell_type": "code",
   "execution_count": null,
   "metadata": {},
   "outputs": [],
   "source": [
    "\n"
   ]
  },
  {
   "cell_type": "markdown",
   "metadata": {},
   "source": [
    "- **Question:** 위 문제에서 출력된 결과를 `tuple`로 변환한 후 `공백을 기준으로 분리`하여 아래 결과를 출력하시오\n",
    "\n",
    "```python\n",
    "['파이썬은', '매우매우매우매우매우매우매우매우매우매우매우매우매우', '어렵다.']\n",
    "```"
   ]
  },
  {
   "cell_type": "code",
   "execution_count": null,
   "metadata": {},
   "outputs": [],
   "source": [
    "\n"
   ]
  },
  {
   "cell_type": "markdown",
   "metadata": {},
   "source": [
    "- **Question:** 아래 문장에서 슬라이싱을 통해 Trial and error와 ladder 단어를 추출하여 출력하시오\n",
    "\n",
    "```markdown\n",
    "'Trial and error' is a ladder that reaching for the truth.\n",
    "```"
   ]
  },
  {
   "cell_type": "code",
   "execution_count": null,
   "metadata": {
    "ExecuteTime": {
     "end_time": "2022-04-07T06:09:20.580844Z",
     "start_time": "2022-04-07T06:09:20.561339Z"
    }
   },
   "outputs": [],
   "source": [
    "\n"
   ]
  },
  {
   "cell_type": "markdown",
   "metadata": {},
   "source": [
    "- **Question:** `이름`, `학번`, `취미` 라는 key값과 본인의 정보를 반영한 딕셔너리를 만들고, `pandas`를 사용하여 아래와 같은 제목 형태의 2차원으로 변환하여 출력하시오\n",
    "\n",
    "|      | My Info   |\n",
    "|:-----|:----------|\n",
    "| 이름 | 김경원    |\n",
    "| 학번 | 20211011  |\n",
    "| 취미 | 영화보기  |\n"
   ]
  },
  {
   "cell_type": "markdown",
   "metadata": {},
   "source": [
    "- **Question:** 하기 출력을 실행하고 각 계산마다 어떤 순서로 계산하는지 `주석(#)`으로 서술하시오\n",
    "```python\n",
    "print(2 ** 2 ** 2 ** 2)\n",
    "print(5 - 2 * 3 ** 4 // (( 5 + 6) % 7 ) / 8 )\n",
    "print(3 + 4 * 5 < 5 * 7 - 1)\n",
    "```"
   ]
  },
  {
   "cell_type": "code",
   "execution_count": 2,
   "metadata": {
    "ExecuteTime": {
     "end_time": "2024-09-27T07:41:21.242600Z",
     "start_time": "2024-09-27T07:41:21.238028Z"
    },
    "execution": {
     "iopub.execute_input": "2025-09-05T08:56:33.641531Z",
     "iopub.status.busy": "2025-09-05T08:56:33.641531Z",
     "iopub.status.idle": "2025-09-05T08:56:33.648399Z",
     "shell.execute_reply": "2025-09-05T08:56:33.647389Z",
     "shell.execute_reply.started": "2025-09-05T08:56:33.641531Z"
    }
   },
   "outputs": [
    {
     "name": "stdout",
     "output_type": "stream",
     "text": [
      "65536\n"
     ]
    }
   ],
   "source": [
    "print(2 ** 2 ** 2 ** 2)"
   ]
  },
  {
   "cell_type": "code",
   "execution_count": 3,
   "metadata": {
    "ExecuteTime": {
     "end_time": "2022-03-22T17:31:37.866162Z",
     "start_time": "2022-03-22T17:31:37.852167Z"
    },
    "execution": {
     "iopub.execute_input": "2025-09-05T08:56:33.650398Z",
     "iopub.status.busy": "2025-09-05T08:56:33.649400Z",
     "iopub.status.idle": "2025-09-05T08:56:33.658375Z",
     "shell.execute_reply": "2025-09-05T08:56:33.657360Z",
     "shell.execute_reply.started": "2025-09-05T08:56:33.650398Z"
    }
   },
   "outputs": [],
   "source": [
    "# 위 결과 출력 순서 작성\n",
    "# 1)\n",
    "# 2)\n",
    "# ..."
   ]
  },
  {
   "cell_type": "code",
   "execution_count": 4,
   "metadata": {
    "ExecuteTime": {
     "end_time": "2022-03-22T17:31:37.881129Z",
     "start_time": "2022-03-22T17:31:37.867132Z"
    },
    "execution": {
     "iopub.execute_input": "2025-09-05T08:56:33.659372Z",
     "iopub.status.busy": "2025-09-05T08:56:33.659372Z",
     "iopub.status.idle": "2025-09-05T08:56:33.669768Z",
     "shell.execute_reply": "2025-09-05T08:56:33.668759Z",
     "shell.execute_reply.started": "2025-09-05T08:56:33.659372Z"
    }
   },
   "outputs": [
    {
     "name": "stdout",
     "output_type": "stream",
     "text": [
      "0.0\n"
     ]
    }
   ],
   "source": [
    "print(5 - 2 * 3 ** 4 // (( 5 + 6) % 7 ) / 8 )"
   ]
  },
  {
   "cell_type": "code",
   "execution_count": 5,
   "metadata": {
    "ExecuteTime": {
     "end_time": "2022-03-22T17:31:37.896132Z",
     "start_time": "2022-03-22T17:31:37.882130Z"
    },
    "execution": {
     "iopub.execute_input": "2025-09-05T08:56:33.674767Z",
     "iopub.status.busy": "2025-09-05T08:56:33.674767Z",
     "iopub.status.idle": "2025-09-05T08:56:33.679097Z",
     "shell.execute_reply": "2025-09-05T08:56:33.678090Z",
     "shell.execute_reply.started": "2025-09-05T08:56:33.674767Z"
    }
   },
   "outputs": [],
   "source": [
    "# 위 결과 출력 순서 작성\n",
    "# 1)\n",
    "# 2)\n",
    "# ..."
   ]
  },
  {
   "cell_type": "code",
   "execution_count": 6,
   "metadata": {
    "ExecuteTime": {
     "end_time": "2024-09-27T07:41:51.548086Z",
     "start_time": "2024-09-27T07:41:51.545857Z"
    },
    "execution": {
     "iopub.execute_input": "2025-09-05T08:56:33.680098Z",
     "iopub.status.busy": "2025-09-05T08:56:33.680098Z",
     "iopub.status.idle": "2025-09-05T08:56:33.689171Z",
     "shell.execute_reply": "2025-09-05T08:56:33.688161Z",
     "shell.execute_reply.started": "2025-09-05T08:56:33.680098Z"
    }
   },
   "outputs": [
    {
     "name": "stdout",
     "output_type": "stream",
     "text": [
      "True\n"
     ]
    }
   ],
   "source": [
    "print(3 + 4 * 5 <  5 * 7 - 1)"
   ]
  },
  {
   "cell_type": "code",
   "execution_count": 7,
   "metadata": {
    "ExecuteTime": {
     "end_time": "2022-03-22T17:31:37.926161Z",
     "start_time": "2022-03-22T17:31:37.914139Z"
    },
    "execution": {
     "iopub.execute_input": "2025-09-05T08:56:33.690169Z",
     "iopub.status.busy": "2025-09-05T08:56:33.690169Z",
     "iopub.status.idle": "2025-09-05T08:56:33.697188Z",
     "shell.execute_reply": "2025-09-05T08:56:33.697188Z",
     "shell.execute_reply.started": "2025-09-05T08:56:33.690169Z"
    }
   },
   "outputs": [],
   "source": [
    "# 위 결과 출력 순서 작성\n",
    "# 1)\n",
    "# 2)\n",
    "# ..."
   ]
  },
  {
   "cell_type": "markdown",
   "metadata": {},
   "source": [
    "- **Question:** 아래는 보유중인 주식의 가격과 수량이다. 전체 평가액(`가격*수량`)을 계산하라\n",
    "\n",
    "|          |   가격 |   수량 |\n",
    "|:---------|-------:|-------:|\n",
    "| 삼성전자 |  65000 |      3 |\n",
    "| 네이버   | 150000 |      2 |"
   ]
  },
  {
   "cell_type": "code",
   "execution_count": null,
   "metadata": {},
   "outputs": [],
   "source": [
    "\n"
   ]
  },
  {
   "cell_type": "markdown",
   "metadata": {},
   "source": [
    "- **Question:** 위의 보유중인 주식의 가격과 수량에서 만약 내일 삼성전자의 가격이 10% 상승하고 네이버의 가격이 15% 하락할 경우 전체 평가액은 얼마가 증가하는가?"
   ]
  },
  {
   "cell_type": "code",
   "execution_count": null,
   "metadata": {},
   "outputs": [],
   "source": [
    "\n"
   ]
  },
  {
   "cell_type": "code",
   "execution_count": 8,
   "metadata": {
    "ExecuteTime": {
     "end_time": "2022-03-24T06:17:12.334419Z",
     "start_time": "2022-03-24T06:17:12.312423Z"
    },
    "execution": {
     "iopub.execute_input": "2025-09-05T08:56:33.699631Z",
     "iopub.status.busy": "2025-09-05T08:56:33.698626Z",
     "iopub.status.idle": "2025-09-05T08:56:33.710079Z",
     "shell.execute_reply": "2025-09-05T08:56:33.708073Z",
     "shell.execute_reply.started": "2025-09-05T08:56:33.698626Z"
    }
   },
   "outputs": [
    {
     "name": "stdout",
     "output_type": "stream",
     "text": [
      "Intel64 Family 6 Model 186 Stepping 2, GenuineIntel\n",
      "32(GB)\n",
      "Windows\n",
      "10.0.26100\n",
      "C:\\DataScience\\Lecture\\[DataScience]\n",
      "2024-12-12 00:34:16.155373\n",
      "2025-09-05 17:56:16.599021\n",
      "2025-09-05 17:56:16.599021\n",
      "2025-09-05 17:56:33.705628\n",
      "다음 출력을 파일명으로 설정하고 제출하시오: 김경원_20211011_비즈니스혁신을위한데이터사이언스응용_1반_InputOutputQ\n"
     ]
    }
   ],
   "source": [
    "# 반드시 이 cell을 실행하시오\n",
    "# 실행하지 않을 시 직접 하지 않은 것으로 간주\n",
    "# 마지막 줄 출력으로 파일명을 설정하고 제출 필수\n",
    "import platform, psutil, os, datetime\n",
    "print(platform.processor())\n",
    "print(str(round(psutil.virtual_memory().total / (1024.0 **3)))+\"(GB)\")\n",
    "print(platform.system())\n",
    "print(platform.version())\n",
    "print(os.getcwd())\n",
    "print(datetime.datetime.fromtimestamp(os.path.getctime(os.getcwd())))\n",
    "print(datetime.datetime.fromtimestamp(os.path.getmtime(os.getcwd())))\n",
    "print(datetime.datetime.fromtimestamp(os.path.getatime(os.getcwd())))\n",
    "print(datetime.datetime.now())\n",
    "title = 'InputOutputQ'    # 고정값\n",
    "name = '김경원'    # 본인 이름을 작성\n",
    "studentid = '20211011'    # 본인 학번을 작성\n",
    "course = '비즈니스혁신을위한데이터사이언스응용'    # '비즈니스데이터사이언스이해', '비즈니스혁신을위한데이터사이언스응용'\n",
    "course_number = '1반'    #  학수번호 끝자리\n",
    "                         # 비즈니스데이터사이언스의이해 (0010885001) => 1반\n",
    "                         # 비즈니스데이터사이언스의이해 (0010885002) => 2반\n",
    "                         # 비즈니스혁신을위한데이터사이언스응용 (1002667001) => 1반\n",
    "print('다음 출력을 파일명으로 설정하고 제출하시오:', name + '_' + studentid + '_' + course + '_' + course_number + '_' + title)"
   ]
  },
  {
   "cell_type": "code",
   "execution_count": null,
   "metadata": {},
   "outputs": [],
   "source": []
  }
 ],
 "metadata": {
  "hide_input": false,
  "kernelspec": {
   "display_name": "Python 3 (ipykernel)",
   "language": "python",
   "name": "python3"
  },
  "language_info": {
   "codemirror_mode": {
    "name": "ipython",
    "version": 3
   },
   "file_extension": ".py",
   "mimetype": "text/x-python",
   "name": "python",
   "nbconvert_exporter": "python",
   "pygments_lexer": "ipython3",
   "version": "3.12.3"
  },
  "toc": {
   "base_numbering": 1,
   "nav_menu": {},
   "number_sections": true,
   "sideBar": true,
   "skip_h1_title": false,
   "title_cell": "Table of Contents",
   "title_sidebar": "Contents",
   "toc_cell": false,
   "toc_position": {
    "height": "calc(100% - 180px)",
    "left": "10px",
    "top": "150px",
    "width": "471.75px"
   },
   "toc_section_display": true,
   "toc_window_display": true
  },
  "varInspector": {
   "cols": {
    "lenName": 16,
    "lenType": 16,
    "lenVar": 40
   },
   "kernels_config": {
    "python": {
     "delete_cmd_postfix": "",
     "delete_cmd_prefix": "del ",
     "library": "var_list.py",
     "varRefreshCmd": "print(var_dic_list())"
    },
    "r": {
     "delete_cmd_postfix": ") ",
     "delete_cmd_prefix": "rm(",
     "library": "var_list.r",
     "varRefreshCmd": "cat(var_dic_list()) "
    }
   },
   "types_to_exclude": [
    "module",
    "function",
    "builtin_function_or_method",
    "instance",
    "_Feature"
   ],
   "window_display": false
  }
 },
 "nbformat": 4,
 "nbformat_minor": 4
}
