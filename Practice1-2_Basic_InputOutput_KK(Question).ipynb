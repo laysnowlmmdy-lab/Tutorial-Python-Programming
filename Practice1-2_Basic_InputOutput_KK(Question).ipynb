{
 "cells": [
  {
   "cell_type": "code",
   "execution_count": 1,
   "metadata": {
    "ExecuteTime": {
     "end_time": "2022-03-24T06:15:42.961011Z",
     "start_time": "2022-03-24T06:15:42.924013Z"
    },
    "execution": {
     "iopub.execute_input": "2025-08-21T16:19:53.221352Z",
     "iopub.status.busy": "2025-08-21T16:19:53.221352Z",
     "iopub.status.idle": "2025-08-21T16:19:53.258433Z",
     "shell.execute_reply": "2025-08-21T16:19:53.251412Z",
     "shell.execute_reply.started": "2025-08-21T16:19:53.221352Z"
    }
   },
   "outputs": [
    {
     "name": "stdout",
     "output_type": "stream",
     "text": [
      "Intel64 Family 6 Model 186 Stepping 2, GenuineIntel\n",
      "32(GB)\n",
      "Windows\n",
      "10.0.26100\n",
      "C:\\DataScience\n",
      "2024-12-12 00:19:48.697697\n",
      "2025-08-22 01:19:12.762661\n",
      "2025-08-22 01:19:12.762661\n",
      "2025-08-22 01:19:53.241426\n",
      "다음 출력을 파일명으로 설정하고 제출하시오: 김경원_20211011_비즈니스혁신을위한데이터사이언스응용_1반_InputOutput\n"
     ]
    }
   ],
   "source": [
    "# 반드시 이 cell을 실행하시오\n",
    "# 실행하지 않을 시 직접 하지 않은 것으로 간주\n",
    "# 마지막 줄 출력으로 파일명을 설정하고 제출 필수\n",
    "import platform, psutil, os, datetime\n",
    "print(platform.processor())\n",
    "print(str(round(psutil.virtual_memory().total / (1024.0 **3)))+\"(GB)\")\n",
    "print(platform.system())\n",
    "print(platform.version())\n",
    "print(os.getcwd())\n",
    "print(datetime.datetime.fromtimestamp(os.path.getctime(os.getcwd())))\n",
    "print(datetime.datetime.fromtimestamp(os.path.getmtime(os.getcwd())))\n",
    "print(datetime.datetime.fromtimestamp(os.path.getatime(os.getcwd())))\n",
    "print(datetime.datetime.now())\n",
    "title = 'InputOutput'    # 고정값\n",
    "name = '김경원'    # 본인 이름을 작성\n",
    "studentid = '20211011'    # 본인 학번을 작성\n",
    "course = '비즈니스혁신을위한데이터사이언스응용'    # '비즈니스데이터사이언스이해', '비즈니스혁신을위한데이터사이언스응용'\n",
    "course_number = '1반'    #  학수번호 끝자리\n",
    "                         # 비즈니스데이터사이언스의이해 (0010885001) => 1반\n",
    "                         # 비즈니스데이터사이언스의이해 (0010885002) => 2반\n",
    "                         # 비즈니스혁신을위한데이터사이언스응용 (1002667001) => 1반\n",
    "print('다음 출력을 파일명으로 설정하고 제출하시오:', name + '_' + studentid + '_' + course + '_' + course_number + '_' + title)"
   ]
  },
  {
   "cell_type": "markdown",
   "metadata": {},
   "source": [
    "- **Question:** 아래 코드는 여러개의 문장 중 임의로 하나의 문장이 선택된다. 문장 길이상 가운데 부분을 임의 추출한 후`tuple`로 변환한 후 `공백을 기준으로 단어 분리`된 리스트를 출력하는 서비스를 작성하시오. (수업 내용을 벗어난 방법은 정답으로 인정하지 않음)"
   ]
  },
  {
   "cell_type": "code",
   "execution_count": 2,
   "metadata": {
    "execution": {
     "iopub.execute_input": "2025-08-21T16:19:53.291435Z",
     "iopub.status.busy": "2025-08-21T16:19:53.290429Z",
     "iopub.status.idle": "2025-08-21T16:19:53.306340Z",
     "shell.execute_reply": "2025-08-21T16:19:53.303340Z",
     "shell.execute_reply.started": "2025-08-21T16:19:53.291435Z"
    }
   },
   "outputs": [
    {
     "name": "stdout",
     "output_type": "stream",
     "text": [
      "선택된 문장: 문자열 슬라이싱은 파이썬의 강력한 기능 중 하나다.\n"
     ]
    }
   ],
   "source": [
    "# 문제 실행\n",
    "import random\n",
    "\n",
    "sentences = [\n",
    "    \"파이썬은 매우매우매우매우매우매우매우 어렵다.\",\n",
    "    \"데이터 과학은 창의성과 논리를 모두 필요로 한다.\",\n",
    "    \"인공지능은 사회 전반에 변화를 일으키고 있다.\",\n",
    "    \"문자열 슬라이싱은 파이썬의 강력한 기능 중 하나다.\"\n",
    "]\n",
    "\n",
    "# 문장 무작위 선택\n",
    "text = random.choice(sentences)\n",
    "print(\"선택된 문장:\", text)"
   ]
  },
  {
   "cell_type": "code",
   "execution_count": 3,
   "metadata": {
    "execution": {
     "iopub.execute_input": "2025-08-21T16:19:53.318338Z",
     "iopub.status.busy": "2025-08-21T16:19:53.317338Z",
     "iopub.status.idle": "2025-08-21T16:19:53.327377Z",
     "shell.execute_reply": "2025-08-21T16:19:53.325371Z",
     "shell.execute_reply.started": "2025-08-21T16:19:53.318338Z"
    }
   },
   "outputs": [],
   "source": [
    "# 본인이 생각한 답안\n",
    "\n"
   ]
  },
  {
   "cell_type": "code",
   "execution_count": 4,
   "metadata": {
    "execution": {
     "iopub.execute_input": "2025-08-21T16:19:53.336378Z",
     "iopub.status.busy": "2025-08-21T16:19:53.335394Z",
     "iopub.status.idle": "2025-08-21T16:19:53.345929Z",
     "shell.execute_reply": "2025-08-21T16:19:53.342930Z",
     "shell.execute_reply.started": "2025-08-21T16:19:53.336378Z"
    }
   },
   "outputs": [],
   "source": [
    "# ChatGPT와 같은 AI 도구 활용한 답안\n",
    "\n"
   ]
  },
  {
   "cell_type": "code",
   "execution_count": 5,
   "metadata": {
    "execution": {
     "iopub.execute_input": "2025-08-21T16:19:53.355930Z",
     "iopub.status.busy": "2025-08-21T16:19:53.355930Z",
     "iopub.status.idle": "2025-08-21T16:19:53.363456Z",
     "shell.execute_reply": "2025-08-21T16:19:53.360929Z",
     "shell.execute_reply.started": "2025-08-21T16:19:53.355930Z"
    }
   },
   "outputs": [],
   "source": [
    "# 서로의 답안이 어떤 차이가 있는지 주석으로 서술하시오\n",
    "\n"
   ]
  },
  {
   "cell_type": "markdown",
   "metadata": {},
   "source": [
    "- **Question:** 아래 코드를 실행 후 본인이 자유롭게 입력한 문장(sentence)에서 `슬라이싱`을 사용해 마지막 두 단어를 출력하는 서비스를 작성하시오. (수업 내용을 벗어난 방법은 정답으로 인정하지 않음)\n",
    "\n",
    "```python\n",
    "sentence = input(\"아무 문장을 입력하세요: \")\n",
    "\n",
    "# 예시\n",
    "## 입력\n",
    "아무 문장을 입력하세요: 동해물과 백두산이\n",
    "## 출력\n",
    "산이\n",
    "```"
   ]
  },
  {
   "cell_type": "code",
   "execution_count": 6,
   "metadata": {
    "ExecuteTime": {
     "end_time": "2022-04-07T06:09:20.580844Z",
     "start_time": "2022-04-07T06:09:20.561339Z"
    },
    "execution": {
     "iopub.execute_input": "2025-08-21T16:19:53.371455Z",
     "iopub.status.busy": "2025-08-21T16:19:53.371455Z",
     "iopub.status.idle": "2025-08-21T16:19:53.379974Z",
     "shell.execute_reply": "2025-08-21T16:19:53.377443Z",
     "shell.execute_reply.started": "2025-08-21T16:19:53.371455Z"
    }
   },
   "outputs": [],
   "source": [
    "# 본인이 생각한 답안\n",
    "\n"
   ]
  },
  {
   "cell_type": "code",
   "execution_count": 7,
   "metadata": {
    "execution": {
     "iopub.execute_input": "2025-08-21T16:19:53.386956Z",
     "iopub.status.busy": "2025-08-21T16:19:53.386956Z",
     "iopub.status.idle": "2025-08-21T16:19:53.395045Z",
     "shell.execute_reply": "2025-08-21T16:19:53.392044Z",
     "shell.execute_reply.started": "2025-08-21T16:19:53.386956Z"
    }
   },
   "outputs": [],
   "source": [
    "# ChatGPT와 같은 AI 도구 활용한 답안\n",
    "\n"
   ]
  },
  {
   "cell_type": "code",
   "execution_count": 8,
   "metadata": {
    "execution": {
     "iopub.execute_input": "2025-08-21T16:19:53.403044Z",
     "iopub.status.busy": "2025-08-21T16:19:53.403044Z",
     "iopub.status.idle": "2025-08-21T16:19:53.411221Z",
     "shell.execute_reply": "2025-08-21T16:19:53.409045Z",
     "shell.execute_reply.started": "2025-08-21T16:19:53.403044Z"
    }
   },
   "outputs": [],
   "source": [
    "# 서로의 답안이 어떤 차이가 있는지 주석으로 서술하시오\n",
    "\n"
   ]
  },
  {
   "cell_type": "markdown",
   "metadata": {},
   "source": [
    "- **Question:** 아래 조건에 맞는 서비스를 작성하시오. (수업 내용을 벗어난 방법은 정답으로 인정하지 않음)\n",
    "\n",
    "1. 프로그램 실행 시 `이름, 학번, 취미를 input()으로 직접 입력`받는다.\n",
    "2. 입력받은 값을 이용하여 `딕셔너리를 생성`한다.\n",
    "3. pandas를 사용하여 `2차원 형태의 표로 변환`하되, 열 이름은 \"Profile\", \"Student Info\", \"My Data\" 중 `무작위로 선택된 하나`가 되도록 한다.\n",
    "4. 최종 출력은 아래와 같은 예시 형식이 되어야 한다.\n",
    "\n",
    "|      | My Data   |\n",
    "|:-----|:----------|\n",
    "| 이름 | 김경원    |\n",
    "| 학번 | 20211011  |\n",
    "| 취미 | 영화보기  |"
   ]
  },
  {
   "cell_type": "code",
   "execution_count": 9,
   "metadata": {
    "execution": {
     "iopub.execute_input": "2025-08-21T16:19:53.419220Z",
     "iopub.status.busy": "2025-08-21T16:19:53.418224Z",
     "iopub.status.idle": "2025-08-21T16:19:53.424248Z",
     "shell.execute_reply": "2025-08-21T16:19:53.423241Z",
     "shell.execute_reply.started": "2025-08-21T16:19:53.419220Z"
    }
   },
   "outputs": [],
   "source": [
    "# 본인이 생각한 답안\n",
    "\n"
   ]
  },
  {
   "cell_type": "code",
   "execution_count": 10,
   "metadata": {
    "execution": {
     "iopub.execute_input": "2025-08-21T16:19:53.438247Z",
     "iopub.status.busy": "2025-08-21T16:19:53.437247Z",
     "iopub.status.idle": "2025-08-21T16:19:53.447792Z",
     "shell.execute_reply": "2025-08-21T16:19:53.445248Z",
     "shell.execute_reply.started": "2025-08-21T16:19:53.438247Z"
    }
   },
   "outputs": [],
   "source": [
    "# ChatGPT와 같은 AI 도구 활용한 답안\n",
    "\n"
   ]
  },
  {
   "cell_type": "code",
   "execution_count": 11,
   "metadata": {
    "execution": {
     "iopub.execute_input": "2025-08-21T16:19:53.455793Z",
     "iopub.status.busy": "2025-08-21T16:19:53.455793Z",
     "iopub.status.idle": "2025-08-21T16:19:53.464818Z",
     "shell.execute_reply": "2025-08-21T16:19:53.460793Z",
     "shell.execute_reply.started": "2025-08-21T16:19:53.455793Z"
    }
   },
   "outputs": [],
   "source": [
    "# 서로의 답안이 어떤 차이가 있는지 주석으로 서술하시오\n",
    "\n"
   ]
  },
  {
   "cell_type": "markdown",
   "metadata": {},
   "source": [
    "- **Question:** 아래 코드를 실행하면 임의의 수식 기반 문제가 출력된다. 각 계산 결과상 어떤 연산자 우선순위에 따라 계산되는지 `주석(#)`으로 서술하시오. (수업 내용을 벗어난 방법은 정답으로 인정하지 않음)"
   ]
  },
  {
   "cell_type": "code",
   "execution_count": 14,
   "metadata": {
    "execution": {
     "iopub.execute_input": "2025-08-30T16:08:29.886988Z",
     "iopub.status.busy": "2025-08-30T16:08:29.885988Z",
     "iopub.status.idle": "2025-08-30T16:08:29.890224Z",
     "shell.execute_reply": "2025-08-30T16:08:29.890224Z",
     "shell.execute_reply.started": "2025-08-30T16:08:29.886988Z"
    }
   },
   "outputs": [
    {
     "name": "stdout",
     "output_type": "stream",
     "text": [
      "5 ** 2 ** 3 ** 5\n",
      "10 - 4 * 6 ** 3 // ((10 + 10) % 7) / 5\n",
      "3 + 6 * 6 < 2 * 6 - 6\n"
     ]
    }
   ],
   "source": [
    "# 문제 실행\n",
    "import random\n",
    "\n",
    "# 1. 지수 연쇄 문제\n",
    "a, b, c, d = [random.randint(2, 5) for _ in range(4)]\n",
    "print(f\"{a} ** {b} ** {c} ** {d}\")\n",
    "\n",
    "# 2. 혼합 산술 문제\n",
    "x, y, z = random.randint(2, 9), random.randint(2, 9), random.randint(2, 4)\n",
    "m, n, k = random.randint(5, 15), random.randint(5, 15), random.randint(3, 10)\n",
    "print(f\"{m} - {x} * {y} ** {z} // (({m} + {n}) % {k}) / {random.randint(2, 8)}\")\n",
    "\n",
    "# 3. 비교식 문제\n",
    "p, q, r, s = random.randint(2, 9), random.randint(2, 9), random.randint(2, 9), random.randint(1, 10)\n",
    "print(f\"3 + {p} * {q} < {r} * {q} - {s}\")"
   ]
  },
  {
   "cell_type": "code",
   "execution_count": 13,
   "metadata": {
    "execution": {
     "iopub.execute_input": "2025-08-21T16:19:53.495230Z",
     "iopub.status.busy": "2025-08-21T16:19:53.495230Z",
     "iopub.status.idle": "2025-08-21T16:19:53.502318Z",
     "shell.execute_reply": "2025-08-21T16:19:53.500312Z",
     "shell.execute_reply.started": "2025-08-21T16:19:53.495230Z"
    }
   },
   "outputs": [],
   "source": [
    "# 1. 지수 연쇄 문제 결과 출력 순서 작성\n",
    "# 1)\n",
    "# 2)\n",
    "# ..."
   ]
  },
  {
   "cell_type": "code",
   "execution_count": 14,
   "metadata": {
    "execution": {
     "iopub.execute_input": "2025-08-21T16:19:53.511319Z",
     "iopub.status.busy": "2025-08-21T16:19:53.511319Z",
     "iopub.status.idle": "2025-08-21T16:19:53.518429Z",
     "shell.execute_reply": "2025-08-21T16:19:53.517422Z",
     "shell.execute_reply.started": "2025-08-21T16:19:53.511319Z"
    }
   },
   "outputs": [],
   "source": [
    "# 2. 혼합 산술 문제 결과 출력 순서 작성\n",
    "# 1)\n",
    "# 2)\n",
    "# ..."
   ]
  },
  {
   "cell_type": "code",
   "execution_count": 15,
   "metadata": {
    "execution": {
     "iopub.execute_input": "2025-08-21T16:19:53.525429Z",
     "iopub.status.busy": "2025-08-21T16:19:53.524430Z",
     "iopub.status.idle": "2025-08-21T16:19:53.531358Z",
     "shell.execute_reply": "2025-08-21T16:19:53.529352Z",
     "shell.execute_reply.started": "2025-08-21T16:19:53.525429Z"
    }
   },
   "outputs": [],
   "source": [
    "# 3. 비교식 문제 결과 출력 순서 작성\n",
    "# 1)\n",
    "# 2)\n",
    "# ..."
   ]
  },
  {
   "cell_type": "markdown",
   "metadata": {},
   "source": [
    "- **Question:** 아래 주직 데이터에 대해서, 고객이 필요로 하는 서비스를 작성하시오\n",
    "\n",
    "1. 각 종목의 `가격 × 수량 = 평가액`을 계산하여 `새로운 열로 추가`하시오.\n",
    "2. 전체 `평가액의 합계`를 구하시오.\n",
    "3. 평가액이 `가장 높은 종목과 낮은 종목`을 찾아서 출력하시오.\n",
    "4. 만약 내일 `가장 낮은 종목이 10% 상승하고 가장 높은 종목이 15% 하락`할 경우 전체 평가액은 얼마나 증가하는가?"
   ]
  },
  {
   "cell_type": "code",
   "execution_count": 21,
   "metadata": {
    "execution": {
     "iopub.execute_input": "2025-08-30T16:09:33.783295Z",
     "iopub.status.busy": "2025-08-30T16:09:33.783295Z",
     "iopub.status.idle": "2025-08-30T16:09:33.787612Z",
     "shell.execute_reply": "2025-08-30T16:09:33.787612Z",
     "shell.execute_reply.started": "2025-08-30T16:09:33.783295Z"
    }
   },
   "outputs": [
    {
     "name": "stdout",
     "output_type": "stream",
     "text": [
      "보유 주식 현황\n",
      "              가격  수량\n",
      "삼성전자      200000   5\n",
      "LG에너지솔루션  200000   1\n",
      "현대차       200000   2\n"
     ]
    }
   ],
   "source": [
    "# 문제 실행\n",
    "import pandas as pd\n",
    "import random\n",
    "\n",
    "# 1) 주식 데이터 생성\n",
    "stocks = [\"삼성전자\", \"네이버\", \"카카오\", \"LG에너지솔루션\", \"현대차\"]\n",
    "data = {\n",
    "    \"가격\": [random.choice([60000, 65000, 70000, 150000, 200000]) for _ in range(3)],\n",
    "    \"수량\": [random.randint(1, 5) for _ in range(3)]\n",
    "}\n",
    "df = pd.DataFrame(data, index=random.sample(stocks, 3))\n",
    "\n",
    "print(\"보유 주식 현황\")\n",
    "print(df)"
   ]
  },
  {
   "cell_type": "code",
   "execution_count": 17,
   "metadata": {
    "execution": {
     "iopub.execute_input": "2025-08-21T16:19:54.911774Z",
     "iopub.status.busy": "2025-08-21T16:19:54.910773Z",
     "iopub.status.idle": "2025-08-21T16:19:54.918307Z",
     "shell.execute_reply": "2025-08-21T16:19:54.916778Z",
     "shell.execute_reply.started": "2025-08-21T16:19:54.911774Z"
    }
   },
   "outputs": [],
   "source": [
    "# 본인이 생각한 답안\n",
    "\n"
   ]
  },
  {
   "cell_type": "code",
   "execution_count": 18,
   "metadata": {
    "execution": {
     "iopub.execute_input": "2025-08-21T16:19:54.927305Z",
     "iopub.status.busy": "2025-08-21T16:19:54.926304Z",
     "iopub.status.idle": "2025-08-21T16:19:54.936839Z",
     "shell.execute_reply": "2025-08-21T16:19:54.935308Z",
     "shell.execute_reply.started": "2025-08-21T16:19:54.927305Z"
    }
   },
   "outputs": [],
   "source": [
    "# ChatGPT와 같은 AI 도구 활용한 답안\n",
    "\n"
   ]
  },
  {
   "cell_type": "code",
   "execution_count": 19,
   "metadata": {
    "execution": {
     "iopub.execute_input": "2025-08-21T16:19:54.949838Z",
     "iopub.status.busy": "2025-08-21T16:19:54.948838Z",
     "iopub.status.idle": "2025-08-21T16:19:54.959724Z",
     "shell.execute_reply": "2025-08-21T16:19:54.957708Z",
     "shell.execute_reply.started": "2025-08-21T16:19:54.949838Z"
    }
   },
   "outputs": [],
   "source": [
    "# 서로의 답안이 어떤 차이가 있는지 주석으로 서술하시오\n",
    "\n"
   ]
  },
  {
   "cell_type": "code",
   "execution_count": 20,
   "metadata": {
    "ExecuteTime": {
     "end_time": "2022-03-24T06:17:12.334419Z",
     "start_time": "2022-03-24T06:17:12.312423Z"
    },
    "execution": {
     "iopub.execute_input": "2025-08-21T16:19:54.970719Z",
     "iopub.status.busy": "2025-08-21T16:19:54.968720Z",
     "iopub.status.idle": "2025-08-21T16:19:54.986728Z",
     "shell.execute_reply": "2025-08-21T16:19:54.985718Z",
     "shell.execute_reply.started": "2025-08-21T16:19:54.970719Z"
    }
   },
   "outputs": [
    {
     "name": "stdout",
     "output_type": "stream",
     "text": [
      "Intel64 Family 6 Model 186 Stepping 2, GenuineIntel\n",
      "32(GB)\n",
      "Windows\n",
      "10.0.26100\n",
      "C:\\DataScience\n",
      "2024-12-12 00:19:48.697697\n",
      "2025-08-22 01:19:12.762661\n",
      "2025-08-22 01:19:12.762661\n",
      "2025-08-22 01:19:54.981719\n",
      "다음 출력을 파일명으로 설정하고 제출하시오: 김경원_20211011_비즈니스혁신을위한데이터사이언스응용_1반_InputOutput\n"
     ]
    }
   ],
   "source": [
    "# 반드시 이 cell을 실행하시오\n",
    "# 실행하지 않을 시 직접 하지 않은 것으로 간주\n",
    "# 마지막 줄 출력으로 파일명을 설정하고 제출 필수\n",
    "import platform, psutil, os, datetime\n",
    "print(platform.processor())\n",
    "print(str(round(psutil.virtual_memory().total / (1024.0 **3)))+\"(GB)\")\n",
    "print(platform.system())\n",
    "print(platform.version())\n",
    "print(os.getcwd())\n",
    "print(datetime.datetime.fromtimestamp(os.path.getctime(os.getcwd())))\n",
    "print(datetime.datetime.fromtimestamp(os.path.getmtime(os.getcwd())))\n",
    "print(datetime.datetime.fromtimestamp(os.path.getatime(os.getcwd())))\n",
    "print(datetime.datetime.now())\n",
    "title = 'InputOutput'    # 고정값\n",
    "name = '김경원'    # 본인 이름을 작성\n",
    "studentid = '20211011'    # 본인 학번을 작성\n",
    "course = '비즈니스혁신을위한데이터사이언스응용'    # '비즈니스데이터사이언스이해', '비즈니스혁신을위한데이터사이언스응용'\n",
    "course_number = '1반'    #  학수번호 끝자리\n",
    "                         # 비즈니스데이터사이언스의이해 (0010885001) => 1반\n",
    "                         # 비즈니스데이터사이언스의이해 (0010885002) => 2반\n",
    "                         # 비즈니스혁신을위한데이터사이언스응용 (1002667001) => 1반\n",
    "print('다음 출력을 파일명으로 설정하고 제출하시오:', name + '_' + studentid + '_' + course + '_' + course_number + '_' + title)"
   ]
  }
 ],
 "metadata": {
  "hide_input": false,
  "kernelspec": {
   "display_name": "Python 3 (ipykernel)",
   "language": "python",
   "name": "python3"
  },
  "language_info": {
   "codemirror_mode": {
    "name": "ipython",
    "version": 3
   },
   "file_extension": ".py",
   "mimetype": "text/x-python",
   "name": "python",
   "nbconvert_exporter": "python",
   "pygments_lexer": "ipython3",
   "version": "3.12.3"
  },
  "toc": {
   "base_numbering": 1,
   "nav_menu": {},
   "number_sections": true,
   "sideBar": true,
   "skip_h1_title": false,
   "title_cell": "Table of Contents",
   "title_sidebar": "Contents",
   "toc_cell": false,
   "toc_position": {
    "height": "calc(100% - 180px)",
    "left": "10px",
    "top": "150px",
    "width": "471.75px"
   },
   "toc_section_display": true,
   "toc_window_display": true
  },
  "varInspector": {
   "cols": {
    "lenName": 16,
    "lenType": 16,
    "lenVar": 40
   },
   "kernels_config": {
    "python": {
     "delete_cmd_postfix": "",
     "delete_cmd_prefix": "del ",
     "library": "var_list.py",
     "varRefreshCmd": "print(var_dic_list())"
    },
    "r": {
     "delete_cmd_postfix": ") ",
     "delete_cmd_prefix": "rm(",
     "library": "var_list.r",
     "varRefreshCmd": "cat(var_dic_list()) "
    }
   },
   "types_to_exclude": [
    "module",
    "function",
    "builtin_function_or_method",
    "instance",
    "_Feature"
   ],
   "window_display": false
  }
 },
 "nbformat": 4,
 "nbformat_minor": 4
}
