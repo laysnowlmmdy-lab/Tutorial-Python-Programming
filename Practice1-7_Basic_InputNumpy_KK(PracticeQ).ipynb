{
 "cells": [
  {
   "cell_type": "code",
   "execution_count": 1,
   "metadata": {
    "ExecuteTime": {
     "end_time": "2022-04-11T09:18:40.119729Z",
     "start_time": "2022-04-11T09:18:40.094700Z"
    },
    "execution": {
     "iopub.execute_input": "2025-09-05T09:09:28.547305Z",
     "iopub.status.busy": "2025-09-05T09:09:28.546306Z",
     "iopub.status.idle": "2025-09-05T09:09:28.562813Z",
     "shell.execute_reply": "2025-09-05T09:09:28.562305Z",
     "shell.execute_reply.started": "2025-09-05T09:09:28.547305Z"
    },
    "tags": []
   },
   "outputs": [
    {
     "name": "stdout",
     "output_type": "stream",
     "text": [
      "Intel64 Family 6 Model 186 Stepping 2, GenuineIntel\n",
      "32(GB)\n",
      "Windows\n",
      "10.0.26100\n",
      "C:\\DataScience\\Lecture\\[DataScience]\n",
      "2024-12-12 00:34:16.155373\n",
      "2025-09-05 18:09:16.864846\n",
      "2025-09-05 18:09:16.864846\n",
      "2025-09-05 18:09:28.558305\n",
      "다음 출력을 파일명으로 설정하고 제출하시오: 김경원_20211011_비즈니스혁신을위한데이터사이언스응용_1반_InputNumpyQ\n"
     ]
    }
   ],
   "source": [
    "# 반드시 이 cell을 실행하시오\n",
    "# 실행하지 않을 시 직접 하지 않은 것으로 간주\n",
    "# 마지막 줄 출력으로 파일명을 설정하고 제출 필수\n",
    "import platform, psutil, os, datetime\n",
    "print(platform.processor())\n",
    "print(str(round(psutil.virtual_memory().total / (1024.0 **3)))+\"(GB)\")\n",
    "print(platform.system())\n",
    "print(platform.version())\n",
    "print(os.getcwd())\n",
    "print(datetime.datetime.fromtimestamp(os.path.getctime(os.getcwd())))\n",
    "print(datetime.datetime.fromtimestamp(os.path.getmtime(os.getcwd())))\n",
    "print(datetime.datetime.fromtimestamp(os.path.getatime(os.getcwd())))\n",
    "print(datetime.datetime.now())\n",
    "title = 'InputNumpyQ'    # 고정값\n",
    "name = '김경원'    # 본인 이름을 작성\n",
    "studentid = '20211011'    # 본인 학번을 작성\n",
    "course = '비즈니스혁신을위한데이터사이언스응용'    # '비즈니스데이터사이언스이해', '비즈니스혁신을위한데이터사이언스응용'\n",
    "course_number = '1반'    #  학수번호 끝자리\n",
    "                         # 비즈니스데이터사이언스의이해 (0010885001) => 1반\n",
    "                         # 비즈니스데이터사이언스의이해 (0010885002) => 2반\n",
    "                         # 비즈니스혁신을위한데이터사이언스응용 (1002667001) => 1반\n",
    "print('다음 출력을 파일명으로 설정하고 제출하시오:', name + '_' + studentid + '_' + course + '_' + course_number + '_' + title)"
   ]
  },
  {
   "cell_type": "markdown",
   "metadata": {},
   "source": [
    "# **Questions**"
   ]
  },
  {
   "cell_type": "markdown",
   "metadata": {},
   "source": [
    "`월별 민간과 기업들의 전기사용 데이터`로 주어진 `Task를 작성/출력` 하며, 모든 답안의 길이는 한줄부터 여러줄이 가능함\n",
    "\n",
    "- **데이터 정보**\n",
    "> - **파일명:** `Industry_MonthlyElectricUsage.txt`\n",
    "> - **파일위치:** `r'.\\Data\\Energy\\Industry_MonthlyElectricUsage.txt'`     \n",
    "$\\Rightarrow$ `강의자료와 동일 위치`에 `Data` 폴더를 들어가면 `Energy` 폴더가 있고 그 안에 `Industry_MonthlyElectricUsage.txt` 존재\n",
    "> - **코드:** `os.path.join('.', 'Data', 'Energy', 'Industry_MonthlyElectricUsage.txt')`\n",
    "> - **포함정보:** 아래와 같이 `5개의 열(컬럼,변수)`이 차례대로 포함\n",
    ">\n",
    "> <br>\n",
    ">\n",
    "> (1) 년월    \n",
    "> (2) 가구수    \n",
    "> (3) 사용량    \n",
    "> (4) 전기요금(=사용량*평균판매단가)    \n",
    "> (5) 평균판매단가    "
   ]
  },
  {
   "cell_type": "code",
   "execution_count": 2,
   "metadata": {
    "ExecuteTime": {
     "end_time": "2021-11-18T05:09:55.324987Z",
     "start_time": "2021-11-18T05:09:55.281104Z"
    },
    "execution": {
     "iopub.execute_input": "2025-09-05T09:09:28.566825Z",
     "iopub.status.busy": "2025-09-05T09:09:28.566825Z",
     "iopub.status.idle": "2025-09-05T09:09:28.729295Z",
     "shell.execute_reply": "2025-09-05T09:09:28.729295Z",
     "shell.execute_reply.started": "2025-09-05T09:09:28.566825Z"
    }
   },
   "outputs": [
    {
     "data": {
      "text/plain": [
       "array([[2.02001000e+05, 1.30000000e+01, 1.11140000e+04, 1.70977500e+06,\n",
       "        1.54000000e+02],\n",
       "       [2.02001000e+05, 5.05200000e+03, 1.66106290e+07, 2.29918341e+09,\n",
       "        1.38000000e+02],\n",
       "       [2.02001000e+05, 5.57000000e+03, 6.51106010e+07, 8.23555475e+09,\n",
       "        1.27000000e+02],\n",
       "       ...,\n",
       "       [2.02012000e+05, 9.00000000e+00, 0.00000000e+00, 0.00000000e+00,\n",
       "        0.00000000e+00],\n",
       "       [2.02012000e+05, 4.00000000e+00, 0.00000000e+00, 0.00000000e+00,\n",
       "        0.00000000e+00],\n",
       "       [2.02012000e+05, 1.30000000e+01, 0.00000000e+00, 0.00000000e+00,\n",
       "        0.00000000e+00]])"
      ]
     },
     "execution_count": 2,
     "metadata": {},
     "output_type": "execute_result"
    }
   ],
   "source": [
    "# 데이터 불러오기 실행 (Local PC에서 실행하는 경우)\n",
    "import os\n",
    "import numpy as np\n",
    "raw = np.loadtxt(os.path.join('.', 'Data', 'Energy', 'Industry_MonthlyElectricUsage.txt'), delimiter='\\t')\n",
    "raw"
   ]
  },
  {
   "cell_type": "code",
   "execution_count": 3,
   "metadata": {
    "ExecuteTime": {
     "end_time": "2022-05-19T06:11:14.217777Z",
     "start_time": "2022-05-19T06:11:14.206778Z"
    },
    "execution": {
     "iopub.execute_input": "2025-09-05T09:09:28.731302Z",
     "iopub.status.busy": "2025-09-05T09:09:28.730301Z",
     "iopub.status.idle": "2025-09-05T09:09:28.734369Z",
     "shell.execute_reply": "2025-09-05T09:09:28.734369Z",
     "shell.execute_reply.started": "2025-09-05T09:09:28.731302Z"
    }
   },
   "outputs": [],
   "source": [
    "# # 데이터 불러오기 실행 (Google Colab에서 실행하는 경우)\n",
    "# # 파일 선택을 눌러서 'Industry_MonthlyElectricUsage.txt' 파일을 선택해주면 로딩 완료\n",
    "# from google.colab import files\n",
    "# files.upload()\n",
    "\n",
    "# import numpy as np\n",
    "# raw = np.loadtxt('Industry_MonthlyElectricUsage.txt', delimiter='\\t')\n",
    "# raw"
   ]
  },
  {
   "cell_type": "code",
   "execution_count": 4,
   "metadata": {
    "ExecuteTime": {
     "end_time": "2022-05-19T06:11:14.847776Z",
     "start_time": "2022-05-19T06:11:14.830779Z"
    },
    "execution": {
     "iopub.execute_input": "2025-09-05T09:09:28.736376Z",
     "iopub.status.busy": "2025-09-05T09:09:28.736376Z",
     "iopub.status.idle": "2025-09-05T09:09:28.744398Z",
     "shell.execute_reply": "2025-09-05T09:09:28.744398Z",
     "shell.execute_reply.started": "2025-09-05T09:09:28.736376Z"
    }
   },
   "outputs": [],
   "source": [
    "# 데이터의 크기 확인하여 행과 열의 갯수 출력\n"
   ]
  },
  {
   "cell_type": "code",
   "execution_count": 5,
   "metadata": {
    "ExecuteTime": {
     "end_time": "2022-05-19T06:11:15.312778Z",
     "start_time": "2022-05-19T06:11:15.309778Z"
    },
    "execution": {
     "iopub.execute_input": "2025-09-05T09:09:28.745771Z",
     "iopub.status.busy": "2025-09-05T09:09:28.745771Z",
     "iopub.status.idle": "2025-09-05T09:09:28.756815Z",
     "shell.execute_reply": "2025-09-05T09:09:28.756815Z",
     "shell.execute_reply.started": "2025-09-05T09:09:28.745771Z"
    }
   },
   "outputs": [],
   "source": [
    "# 데이터가 정상적으로 수집되었다면 결측값(Missing Value)이 없어야 하는데 결측값이 있다면 갯수를 출력\n"
   ]
  },
  {
   "cell_type": "code",
   "execution_count": 6,
   "metadata": {
    "ExecuteTime": {
     "end_time": "2022-05-19T06:11:15.703777Z",
     "start_time": "2022-05-19T06:11:15.694778Z"
    },
    "execution": {
     "iopub.execute_input": "2025-09-05T09:09:28.757821Z",
     "iopub.status.busy": "2025-09-05T09:09:28.757821Z",
     "iopub.status.idle": "2025-09-05T09:09:28.765217Z",
     "shell.execute_reply": "2025-09-05T09:09:28.765217Z",
     "shell.execute_reply.started": "2025-09-05T09:09:28.757821Z"
    }
   },
   "outputs": [],
   "source": [
    "# 데이터의 사용량이 음수로 표시된 것은 오류기 때문에 이를 확인하고 제거할 필요가 있음\n",
    "# 1) raw에서 사용량이 음수인 행 출력\n",
    "# 2) 사용량이 음수인 행을 삭제하고 나머지를 raw_filter 이름으로 저장\n",
    "# 3) raw_filter의 데이터 크기 확인하여 행과 열의 갯수 출력\n",
    "# 이후 아래 모든 과정에선 음수 오류가 삭제된 데이터를 사용하여 진행\n",
    "\n",
    "\n"
   ]
  },
  {
   "cell_type": "code",
   "execution_count": 7,
   "metadata": {
    "ExecuteTime": {
     "end_time": "2022-05-19T06:11:16.139777Z",
     "start_time": "2022-05-19T06:11:16.134777Z"
    },
    "execution": {
     "iopub.execute_input": "2025-09-05T09:09:28.766224Z",
     "iopub.status.busy": "2025-09-05T09:09:28.766224Z",
     "iopub.status.idle": "2025-09-05T09:09:28.773238Z",
     "shell.execute_reply": "2025-09-05T09:09:28.773238Z",
     "shell.execute_reply.started": "2025-09-05T09:09:28.766224Z"
    }
   },
   "outputs": [],
   "source": [
    "# 데이터를 세부적으로 확인하기 위해서,\n",
    "# 1) 데이터의 수집기간을 확인하기 위해 중복되지 않은 년월(YYYYDD) 값들 출력\n",
    "# 2) 년월별 샘플(행, row)의 갯수를 확인하기 위해 년월과 대응되는 샘플수 출력\n",
    "\n",
    "\n"
   ]
  },
  {
   "cell_type": "code",
   "execution_count": 8,
   "metadata": {
    "ExecuteTime": {
     "end_time": "2022-05-19T06:11:16.533776Z",
     "start_time": "2022-05-19T06:11:16.518778Z"
    },
    "execution": {
     "iopub.execute_input": "2025-09-05T09:09:28.774245Z",
     "iopub.status.busy": "2025-09-05T09:09:28.774245Z",
     "iopub.status.idle": "2025-09-05T09:09:28.781611Z",
     "shell.execute_reply": "2025-09-05T09:09:28.781611Z",
     "shell.execute_reply.started": "2025-09-05T09:09:28.774245Z"
    }
   },
   "outputs": [],
   "source": [
    "# 전체 기간의 사용량 최소값, 평균, 최대값 출력\n"
   ]
  },
  {
   "cell_type": "code",
   "execution_count": 9,
   "metadata": {
    "ExecuteTime": {
     "end_time": "2022-05-19T06:11:16.976776Z",
     "start_time": "2022-05-19T06:11:16.966778Z"
    },
    "execution": {
     "iopub.execute_input": "2025-09-05T09:09:28.782616Z",
     "iopub.status.busy": "2025-09-05T09:09:28.782616Z",
     "iopub.status.idle": "2025-09-05T09:09:28.790618Z",
     "shell.execute_reply": "2025-09-05T09:09:28.790618Z",
     "shell.execute_reply.started": "2025-09-05T09:09:28.782616Z"
    }
   },
   "outputs": [],
   "source": [
    "# 년월과 대응되는 사용량 최소값, 평균, 최대값 출력\n",
    "# 출력형식: '년월: 202001 , 사용량최소값: 0 , 사용량평균: 100 , 사용량최소값: 100000'\n",
    "#           '년월: 202002 , 사용량최소값: 0 , 사용량평균: 100 , 사용량최소값: 100000'\n",
    "#             ...\n",
    "\n",
    "\n"
   ]
  },
  {
   "cell_type": "code",
   "execution_count": 10,
   "metadata": {
    "ExecuteTime": {
     "end_time": "2022-05-19T06:11:21.072572Z",
     "start_time": "2022-05-19T06:11:21.070572Z"
    },
    "execution": {
     "iopub.execute_input": "2025-09-05T09:09:28.792937Z",
     "iopub.status.busy": "2025-09-05T09:09:28.792937Z",
     "iopub.status.idle": "2025-09-05T09:09:28.798070Z",
     "shell.execute_reply": "2025-09-05T09:09:28.798070Z",
     "shell.execute_reply.started": "2025-09-05T09:09:28.792937Z"
    }
   },
   "outputs": [],
   "source": [
    "# 년월과 대응되는 전기요금 최소값, 평균, 중앙값, 최대값, 분산 출력\n",
    "# 출력형식: '년월: 202001.0 , 전기요금최소값: 10 , 전기요금평균: 400 , 전기요금중앙값: 300 , 전기요금최대값: 10000 , 전기요금분산: 100'\n",
    "#           '년월: 202002.0 , 전기요금최소값: 10 , 전기요금평균: 400 , 전기요금중앙값: 300 , 전기요금최대값: 10000 , 전기요금분산: 100'\n",
    "#             ...\n",
    "\n",
    "\n"
   ]
  },
  {
   "cell_type": "code",
   "execution_count": 11,
   "metadata": {
    "ExecuteTime": {
     "end_time": "2022-05-19T06:11:21.448571Z",
     "start_time": "2022-05-19T06:11:21.438571Z"
    },
    "execution": {
     "iopub.execute_input": "2025-09-05T09:09:28.800076Z",
     "iopub.status.busy": "2025-09-05T09:09:28.799076Z",
     "iopub.status.idle": "2025-09-05T09:09:28.806480Z",
     "shell.execute_reply": "2025-09-05T09:09:28.806480Z",
     "shell.execute_reply.started": "2025-09-05T09:09:28.800076Z"
    }
   },
   "outputs": [],
   "source": [
    "# 년월과 대응되는 가구수 평균, 1가구당 평균 사용량, 1가구당 평균 전기요금 출력\n",
    "# 출력형식: '년월: 202001.0 , 가구수 평균: 10 , 1가구당 평균 사용량: 100 , 1가구당 평균 전기요금: 1000'\n",
    "#           '년월: 202002.0 , 가구수 평균: 5 , 1가구당 평균 사용량: 100 , 1가구당 평균 전기요금: 1000'\n",
    "#             ...\n",
    "\n",
    "\n"
   ]
  },
  {
   "cell_type": "code",
   "execution_count": 12,
   "metadata": {
    "ExecuteTime": {
     "end_time": "2022-05-19T06:11:21.766574Z",
     "start_time": "2022-05-19T06:11:21.763573Z"
    },
    "execution": {
     "iopub.execute_input": "2025-09-05T09:09:28.808487Z",
     "iopub.status.busy": "2025-09-05T09:09:28.807486Z",
     "iopub.status.idle": "2025-09-05T09:09:28.814930Z",
     "shell.execute_reply": "2025-09-05T09:09:28.814930Z",
     "shell.execute_reply.started": "2025-09-05T09:09:28.808487Z"
    }
   },
   "outputs": [],
   "source": [
    "# 데이터를 입력받아 데이터가 포함하고 있는 \n",
    "# 년월과 대응되는 가구수 평균, 1가구당 평균 사용량, 1가구당 평균 전기요금 출력하는 함수를 작성하여\n",
    "# 데이터가 바뀌어도 쉽게 전기사용 패턴을 알 수 있도록 자동화 해둔다\n",
    "# 따라서 함수를 만든 후 입력은 raw_filter 출력은 이전 셀과 동일한 결과가 출력되는지 확인한다\n",
    "\n",
    "\n",
    "\n"
   ]
  },
  {
   "cell_type": "code",
   "execution_count": 13,
   "metadata": {
    "ExecuteTime": {
     "end_time": "2022-05-19T06:11:22.129569Z",
     "start_time": "2022-05-19T06:11:22.119573Z"
    },
    "execution": {
     "iopub.execute_input": "2025-09-05T09:09:28.815936Z",
     "iopub.status.busy": "2025-09-05T09:09:28.815936Z",
     "iopub.status.idle": "2025-09-05T09:09:28.823824Z",
     "shell.execute_reply": "2025-09-05T09:09:28.823824Z",
     "shell.execute_reply.started": "2025-09-05T09:09:28.815936Z"
    }
   },
   "outputs": [],
   "source": [
    "# 소비자 입장에선 최대손실 생산자 입장에선 VVIP 고객의 사용패턴을 파악하기 위한 분석 결과 출력\n",
    "\n",
    "\n",
    "# 전기요금으로 1조(1000000000000)가 넘는 비용을 지출한 VVIP의 년월과 계절패턴이 언제인지 주석으로 작성\n",
    "\n"
   ]
  },
  {
   "cell_type": "code",
   "execution_count": 14,
   "metadata": {
    "ExecuteTime": {
     "end_time": "2024-11-17T14:55:58.774166Z",
     "start_time": "2024-11-17T14:55:58.771633Z"
    },
    "execution": {
     "iopub.execute_input": "2025-09-05T09:09:28.824830Z",
     "iopub.status.busy": "2025-09-05T09:09:28.824830Z",
     "iopub.status.idle": "2025-09-05T09:09:28.832073Z",
     "shell.execute_reply": "2025-09-05T09:09:28.832073Z",
     "shell.execute_reply.started": "2025-09-05T09:09:28.824830Z"
    }
   },
   "outputs": [],
   "source": [
    "# 소비자 입장에선 최대손실 생산자 입장에선 VVIP 고객의 사용패턴을 파악하기 위한 분석 필요\n",
    "# 위에서 자동화한 함수를 사용하여 \n",
    "# 1) VVIP의 사용년월과 대응되는 가구수 평균, 1가구당 평균 사용량, 1가구당 평균 전기요금 출력\n",
    "# 출력형식: '년월: 202001.0 , 가구수 평균: 10 , 1가구당 평균 사용량: 100 , 1가구당 평균 전기요금: 1000'\n",
    "#           '년월: 202002.0 , 가구수 평균: 5 , 1가구당 평균 사용량: 100 , 1가구당 평균 전기요금: 1000'\n",
    "#             ...\n",
    "\n",
    "\n",
    "# 2) 평균상 VVIP가 가장 많은 가구수가 있는 년월을 주석으로 작성\n",
    "\n"
   ]
  },
  {
   "cell_type": "code",
   "execution_count": 15,
   "metadata": {
    "ExecuteTime": {
     "end_time": "2024-11-17T14:56:02.307349Z",
     "start_time": "2024-11-17T14:56:02.304639Z"
    },
    "execution": {
     "iopub.execute_input": "2025-09-05T09:09:28.833079Z",
     "iopub.status.busy": "2025-09-05T09:09:28.833079Z",
     "iopub.status.idle": "2025-09-05T09:09:28.841155Z",
     "shell.execute_reply": "2025-09-05T09:09:28.841155Z",
     "shell.execute_reply.started": "2025-09-05T09:09:28.833079Z"
    }
   },
   "outputs": [],
   "source": [
    "# 정부는 생산자의 매출을 증가시키기 위해 \n",
    "# VVIP가 가장 많은 가구수인 년월에만 \"평균판매단가\"를 5% 상승시키는 정책을 하려한다\n",
    "# 그럴 경우 VVIP가 부담해야 할 전기요금 또는 생산자의 매출은 실제로 얼마나 증가되는지 시뮬레이션 분석하여\n",
    "# 정책의 효용을 검증 해야한다\n",
    "# 1) [정책반영 데이터 업데이트] 따라서 raw_filter_new = raw_filter.copy() 코드를 사용하여 기존 데이터를 복사한 후,\n",
    "# raw_filter_new에 정부의 정책을 반영하여 데이터를 업데이트 한다\n",
    "# 2) [시뮬레이션 기반 정책효과 검증] 이후 위에서 자동화한 함수와 신규 정책 데이터(raw_filter_new)을 사용하여,\n",
    "# VVIP는 앞서 분석했던 VVIP가 가장 많은 가구수인 년월에 기존(raw_filter) 대비 몇 퍼센트의 요금상승을 발생시키는지 계산 출력\n",
    "\n",
    "\n",
    "\n"
   ]
  },
  {
   "cell_type": "code",
   "execution_count": 16,
   "metadata": {
    "ExecuteTime": {
     "end_time": "2024-11-17T14:56:04.219710Z",
     "start_time": "2024-11-17T14:56:04.218101Z"
    },
    "execution": {
     "iopub.execute_input": "2025-09-05T09:09:28.842171Z",
     "iopub.status.busy": "2025-09-05T09:09:28.842171Z",
     "iopub.status.idle": "2025-09-05T09:09:28.851295Z",
     "shell.execute_reply": "2025-09-05T09:09:28.851295Z",
     "shell.execute_reply.started": "2025-09-05T09:09:28.842171Z"
    }
   },
   "outputs": [],
   "source": [
    "# 정부정책의 효과를 확인하기 위해 VVIP 이외에 Non-vvip 집단과의 정책 효용을 비교한다\n",
    "# 앞서 분석했던 VVIP가 가장 많은 가구수인 년월에\n",
    "# 1) [시뮬레이션 기반 정책효과 검증] 이후 위에서 자동화한 함수와 신규 정책 데이터(raw_filter_new)을 사용하여,\n",
    "# 민간 또는 소기업으로 볼 수 있는 전기요금 1억(100000000) 미만인 Non-vvip는\n",
    "# 앞서 분석했던 VVIP가 가장 많은 가구수인 년월에 기존(raw_filter) 대비 몇 퍼센트의 요금상승을 발생시키는지 계산 출력\n",
    "\n",
    "\n",
    "\n"
   ]
  },
  {
   "cell_type": "code",
   "execution_count": 17,
   "metadata": {
    "execution": {
     "iopub.execute_input": "2025-09-05T09:09:28.852301Z",
     "iopub.status.busy": "2025-09-05T09:09:28.852301Z",
     "iopub.status.idle": "2025-09-05T09:09:28.860302Z",
     "shell.execute_reply": "2025-09-05T09:09:28.860302Z",
     "shell.execute_reply.started": "2025-09-05T09:09:28.852301Z"
    }
   },
   "outputs": [],
   "source": [
    "# 2) [데이터기반 의사결정] 정부의 정책 효과를 주석으로 작성하고\n",
    "\n",
    "\n",
    "# 3) [의사결정기반 신규 정책 제시] 위 VIP의 5% 평균판매단가 증가 정책에 더하여,\n",
    "# 어떤 정책을 추가해야 Non-vip의 비용이 줄어들지(요금하락) 또는 늘어나게(요금상승) 될지 의견을 제시하고\n",
    "# 위 데이터 기반의 시뮬레이션처럼 신규 추가 정책의 요금변화 수치를 근거로 제시하라\n",
    "\n",
    "\n",
    "\n"
   ]
  },
  {
   "cell_type": "code",
   "execution_count": 18,
   "metadata": {
    "ExecuteTime": {
     "end_time": "2022-04-11T09:18:46.922729Z",
     "start_time": "2022-04-11T09:18:46.905699Z"
    },
    "execution": {
     "iopub.execute_input": "2025-09-05T09:09:28.861583Z",
     "iopub.status.busy": "2025-09-05T09:09:28.861583Z",
     "iopub.status.idle": "2025-09-05T09:09:28.870633Z",
     "shell.execute_reply": "2025-09-05T09:09:28.870633Z",
     "shell.execute_reply.started": "2025-09-05T09:09:28.861583Z"
    },
    "tags": []
   },
   "outputs": [
    {
     "name": "stdout",
     "output_type": "stream",
     "text": [
      "Intel64 Family 6 Model 186 Stepping 2, GenuineIntel\n",
      "32(GB)\n",
      "Windows\n",
      "10.0.26100\n",
      "C:\\DataScience\\Lecture\\[DataScience]\n",
      "2024-12-12 00:34:16.155373\n",
      "2025-09-05 18:09:16.864846\n",
      "2025-09-05 18:09:16.864846\n",
      "2025-09-05 18:09:28.868586\n",
      "다음 출력을 파일명으로 설정하고 제출하시오: 김경원_20211011_비즈니스혁신을위한데이터사이언스응용_1반_InputNumpyQ\n"
     ]
    }
   ],
   "source": [
    "# 반드시 이 cell을 실행하시오\n",
    "# 실행하지 않을 시 직접 하지 않은 것으로 간주\n",
    "# 마지막 줄 출력으로 파일명을 설정하고 제출 필수\n",
    "import platform, psutil, os, datetime\n",
    "print(platform.processor())\n",
    "print(str(round(psutil.virtual_memory().total / (1024.0 **3)))+\"(GB)\")\n",
    "print(platform.system())\n",
    "print(platform.version())\n",
    "print(os.getcwd())\n",
    "print(datetime.datetime.fromtimestamp(os.path.getctime(os.getcwd())))\n",
    "print(datetime.datetime.fromtimestamp(os.path.getmtime(os.getcwd())))\n",
    "print(datetime.datetime.fromtimestamp(os.path.getatime(os.getcwd())))\n",
    "print(datetime.datetime.now())\n",
    "title = 'InputNumpyQ'    # 고정값\n",
    "name = '김경원'    # 본인 이름을 작성\n",
    "studentid = '20211011'    # 본인 학번을 작성\n",
    "course = '비즈니스혁신을위한데이터사이언스응용'    # '비즈니스데이터사이언스이해', '비즈니스혁신을위한데이터사이언스응용'\n",
    "course_number = '1반'    #  학수번호 끝자리\n",
    "                         # 비즈니스데이터사이언스의이해 (0010885001) => 1반\n",
    "                         # 비즈니스데이터사이언스의이해 (0010885002) => 2반\n",
    "                         # 비즈니스혁신을위한데이터사이언스응용 (1002667001) => 1반\n",
    "print('다음 출력을 파일명으로 설정하고 제출하시오:', name + '_' + studentid + '_' + course + '_' + course_number + '_' + title)"
   ]
  }
 ],
 "metadata": {
  "hide_input": false,
  "kernelspec": {
   "display_name": "Python 3 (ipykernel)",
   "language": "python",
   "name": "python3"
  },
  "language_info": {
   "codemirror_mode": {
    "name": "ipython",
    "version": 3
   },
   "file_extension": ".py",
   "mimetype": "text/x-python",
   "name": "python",
   "nbconvert_exporter": "python",
   "pygments_lexer": "ipython3",
   "version": "3.12.3"
  },
  "toc": {
   "base_numbering": 1,
   "nav_menu": {},
   "number_sections": true,
   "sideBar": true,
   "skip_h1_title": false,
   "title_cell": "Table of Contents",
   "title_sidebar": "Contents",
   "toc_cell": false,
   "toc_position": {
    "height": "calc(100% - 180px)",
    "left": "10px",
    "top": "150px",
    "width": "314px"
   },
   "toc_section_display": true,
   "toc_window_display": true
  },
  "toc-autonumbering": true,
  "toc-showmarkdowntxt": false,
  "varInspector": {
   "cols": {
    "lenName": 16,
    "lenType": 16,
    "lenVar": 40
   },
   "kernels_config": {
    "python": {
     "delete_cmd_postfix": "",
     "delete_cmd_prefix": "del ",
     "library": "var_list.py",
     "varRefreshCmd": "print(var_dic_list())"
    },
    "r": {
     "delete_cmd_postfix": ") ",
     "delete_cmd_prefix": "rm(",
     "library": "var_list.r",
     "varRefreshCmd": "cat(var_dic_list()) "
    }
   },
   "types_to_exclude": [
    "module",
    "function",
    "builtin_function_or_method",
    "instance",
    "_Feature"
   ],
   "window_display": false
  }
 },
 "nbformat": 4,
 "nbformat_minor": 4
}
