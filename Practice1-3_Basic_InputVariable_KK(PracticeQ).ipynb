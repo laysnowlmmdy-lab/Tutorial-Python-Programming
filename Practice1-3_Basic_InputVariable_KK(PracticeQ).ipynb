{
 "cells": [
  {
   "cell_type": "code",
   "execution_count": 1,
   "metadata": {
    "ExecuteTime": {
     "end_time": "2023-10-09T19:51:39.069007Z",
     "start_time": "2023-10-09T19:51:39.063184Z"
    },
    "execution": {
     "iopub.execute_input": "2025-09-05T08:56:11.762991Z",
     "iopub.status.busy": "2025-09-05T08:56:11.762991Z",
     "iopub.status.idle": "2025-09-05T08:56:11.780088Z",
     "shell.execute_reply": "2025-09-05T08:56:11.779079Z",
     "shell.execute_reply.started": "2025-09-05T08:56:11.762991Z"
    }
   },
   "outputs": [
    {
     "name": "stdout",
     "output_type": "stream",
     "text": [
      "Intel64 Family 6 Model 186 Stepping 2, GenuineIntel\n",
      "32(GB)\n",
      "Windows\n",
      "10.0.26100\n",
      "C:\\DataScience\\Lecture\\[DataScience]\n",
      "2024-12-12 00:34:16.155373\n",
      "2025-09-05 17:55:54.887779\n",
      "2025-09-05 17:55:54.887779\n",
      "2025-09-05 17:56:11.775991\n",
      "다음 출력을 파일명으로 설정하고 제출하시오: 김경원_20211011_비즈니스혁신을위한데이터사이언스응용_1반_InputVariableQ\n"
     ]
    }
   ],
   "source": [
    "# 반드시 이 cell을 실행하시오\n",
    "# 실행하지 않을 시 직접 하지 않은 것으로 간주\n",
    "# 마지막 줄 출력으로 파일명을 설정하고 제출 필수\n",
    "import platform, psutil, os, datetime\n",
    "print(platform.processor())\n",
    "print(str(round(psutil.virtual_memory().total / (1024.0 **3)))+\"(GB)\")\n",
    "print(platform.system())\n",
    "print(platform.version())\n",
    "print(os.getcwd())\n",
    "print(datetime.datetime.fromtimestamp(os.path.getctime(os.getcwd())))\n",
    "print(datetime.datetime.fromtimestamp(os.path.getmtime(os.getcwd())))\n",
    "print(datetime.datetime.fromtimestamp(os.path.getatime(os.getcwd())))\n",
    "print(datetime.datetime.now())\n",
    "title = 'InputVariableQ'    # 고정값\n",
    "name = '김경원'    # 본인 이름을 작성\n",
    "studentid = '20211011'    # 본인 학번을 작성\n",
    "course = '비즈니스혁신을위한데이터사이언스응용'    # '비즈니스데이터사이언스이해', '비즈니스혁신을위한데이터사이언스응용'\n",
    "course_number = '1반'    #  학수번호 끝자리\n",
    "                         # 비즈니스데이터사이언스의이해 (0010885001) => 1반\n",
    "                         # 비즈니스데이터사이언스의이해 (0010885002) => 2반\n",
    "                         # 비즈니스혁신을위한데이터사이언스응용 (1002667001) => 1반\n",
    "print('다음 출력을 파일명으로 설정하고 제출하시오:', name + '_' + studentid + '_' + course + '_' + course_number + '_' + title)"
   ]
  },
  {
   "cell_type": "markdown",
   "metadata": {},
   "source": [
    "- **Question:** range 함수를 사용하여 아래와 같은 tuple 값을 출력하시오\n",
    "\n",
    "```python\n",
    "(5, 3, 1, -1, -3, -5, -7, -9)\n",
    "```"
   ]
  },
  {
   "cell_type": "code",
   "execution_count": null,
   "metadata": {
    "ExecuteTime": {
     "end_time": "2022-04-07T08:24:38.824801Z",
     "start_time": "2022-04-07T08:24:38.804798Z"
    }
   },
   "outputs": [],
   "source": [
    "\n"
   ]
  },
  {
   "cell_type": "markdown",
   "metadata": {},
   "source": [
    "- **Question:** 다음 중 사용할 수 없는 변수명을 모두 고르고 이유를 설명하시오\n",
    "\n",
    "(1) none\n",
    "(2) normal\n",
    "(3) my1\n",
    "(4) 111\n",
    "(5) _python\n",
    "(6) *python\n",
    "(7) 변수"
   ]
  },
  {
   "cell_type": "code",
   "execution_count": 2,
   "metadata": {
    "ExecuteTime": {
     "end_time": "2021-10-14T11:39:19.636537Z",
     "start_time": "2021-10-14T11:39:19.622575Z"
    },
    "execution": {
     "iopub.execute_input": "2025-09-05T08:56:11.783088Z",
     "iopub.status.busy": "2025-09-05T08:56:11.782089Z",
     "iopub.status.idle": "2025-09-05T08:56:11.790175Z",
     "shell.execute_reply": "2025-09-05T08:56:11.788089Z",
     "shell.execute_reply.started": "2025-09-05T08:56:11.783088Z"
    }
   },
   "outputs": [],
   "source": [
    "# 설명\n",
    "# 1)\n",
    "# 2)\n",
    "# 3)\n",
    "# ..."
   ]
  },
  {
   "cell_type": "markdown",
   "metadata": {},
   "source": [
    "- **Question:** 정수 5개를 입력받아 합계를 출력하시오"
   ]
  },
  {
   "cell_type": "code",
   "execution_count": null,
   "metadata": {
    "ExecuteTime": {
     "end_time": "2022-04-26T14:28:41.756532Z",
     "start_time": "2022-04-26T14:28:40.169354Z"
    }
   },
   "outputs": [],
   "source": [
    "\n"
   ]
  },
  {
   "cell_type": "markdown",
   "metadata": {},
   "source": [
    "- **Question:** 한 과목이라도 50점 미만이면 불합격(False)를 출력하시오\n",
    "\n",
    "```python\n",
    "korean = 92\n",
    "english = 49\n",
    "mathematics = 86\n",
    "science = 81\n",
    "history = 51\n",
    "```"
   ]
  },
  {
   "cell_type": "code",
   "execution_count": 3,
   "metadata": {
    "ExecuteTime": {
     "end_time": "2022-04-07T08:28:14.511165Z",
     "start_time": "2022-04-07T08:28:14.502647Z"
    },
    "execution": {
     "iopub.execute_input": "2025-09-05T08:56:11.792178Z",
     "iopub.status.busy": "2025-09-05T08:56:11.791180Z",
     "iopub.status.idle": "2025-09-05T08:56:11.801488Z",
     "shell.execute_reply": "2025-09-05T08:56:11.800178Z",
     "shell.execute_reply.started": "2025-09-05T08:56:11.792178Z"
    }
   },
   "outputs": [],
   "source": [
    "korean = 92\n",
    "english = 49\n",
    "mathematics = 86\n",
    "science = 81\n",
    "history = 51\n",
    "\n"
   ]
  },
  {
   "cell_type": "markdown",
   "metadata": {},
   "source": [
    "- **Question:** 다음 2개의 변수를 사용하여 최근 4년간의 연도 및 GDP를 출력하시오\n",
    "\n",
    "```python\n",
    "year = [2011, 2012, 2013, 2014, 2015, 2016, 2017, 2018]\n",
    "GDP = [10249679, 10195318, 10143645, 10103233, 10022181, 9930616, 9857426, 9838892]\n",
    "```"
   ]
  },
  {
   "cell_type": "code",
   "execution_count": null,
   "metadata": {
    "ExecuteTime": {
     "end_time": "2022-04-21T03:19:28.827791Z",
     "start_time": "2022-04-21T03:19:28.820787Z"
    }
   },
   "outputs": [],
   "source": [
    "\n"
   ]
  },
  {
   "cell_type": "markdown",
   "metadata": {},
   "source": [
    "- **Question:** 다음 튜플에서 인덱스가 홀수인 요소들을 출력하시오\n",
    "\n",
    "```python\n",
    "n = (-32, 75, 97, -10, 9, 32, 4, -15, 0, 76, 14, 2)\n",
    "```"
   ]
  },
  {
   "cell_type": "code",
   "execution_count": null,
   "metadata": {
    "ExecuteTime": {
     "end_time": "2022-04-07T08:31:29.246304Z",
     "start_time": "2022-04-07T08:31:29.227307Z"
    }
   },
   "outputs": [],
   "source": [
    "\n"
   ]
  },
  {
   "cell_type": "markdown",
   "metadata": {},
   "source": [
    "- **Question:** 아래와 같이 3층의 $*$ 문자로 이루어진 별자리를 `star`라는 변수로 만들어 변수에 저장된 별자리를 출력하시오\n",
    "\n",
    "```python\n",
    "*\n",
    "**\n",
    "***\n",
    "```"
   ]
  },
  {
   "cell_type": "code",
   "execution_count": null,
   "metadata": {
    "ExecuteTime": {
     "end_time": "2022-04-07T08:32:34.925756Z",
     "start_time": "2022-04-07T08:32:34.917754Z"
    }
   },
   "outputs": [],
   "source": [
    "\n"
   ]
  },
  {
   "cell_type": "markdown",
   "metadata": {},
   "source": [
    "- **Question:** 우리나라는 섭씨 온도표시를 사용하지만, 미국은 화씨 온도표시를 사용합니다.    \n",
    "0도의 섭씨는 화씨로 32도 입니다. 만약 18도의 섭씨는 화씨로 얼마가 될지 출력하시오.    \n",
    "이때 사용할 변수명 섭씨는 `C` 화씨는 `F`로 하시오.\n"
   ]
  },
  {
   "cell_type": "code",
   "execution_count": null,
   "metadata": {
    "ExecuteTime": {
     "end_time": "2022-04-21T03:22:49.617060Z",
     "start_time": "2022-04-21T03:22:49.613060Z"
    }
   },
   "outputs": [],
   "source": [
    "\n"
   ]
  },
  {
   "cell_type": "markdown",
   "metadata": {},
   "source": [
    "- **Question:** 아래와같이 휴대폰번호가 저장된 변수에서 하이푼('-')을 대신 공백을 반영하여 아래와 같이 출력하라\n",
    "\n",
    "```python\n",
    "number = \"010-1234-5678\"\n",
    "\n",
    "# 예상출력\n",
    "010 1234 5678\n",
    "```"
   ]
  },
  {
   "cell_type": "code",
   "execution_count": null,
   "metadata": {},
   "outputs": [],
   "source": [
    "\n"
   ]
  },
  {
   "cell_type": "markdown",
   "metadata": {},
   "source": [
    "- **Question:** `range` 함수를 사용하여 0이상 10000 미만인 모든 짝수의 합계를 `sum` 내장함수를 사용하여 `summation` 이란 변수에 저장하고, 갯수를 `count`라는 변수에 저장한 후 평균을 출력하시오"
   ]
  },
  {
   "cell_type": "code",
   "execution_count": null,
   "metadata": {},
   "outputs": [],
   "source": [
    "\n"
   ]
  },
  {
   "cell_type": "code",
   "execution_count": 4,
   "metadata": {
    "ExecuteTime": {
     "end_time": "2023-10-09T19:51:44.939212Z",
     "start_time": "2023-10-09T19:51:44.934931Z"
    },
    "execution": {
     "iopub.execute_input": "2025-09-05T08:56:11.803487Z",
     "iopub.status.busy": "2025-09-05T08:56:11.802491Z",
     "iopub.status.idle": "2025-09-05T08:56:11.814627Z",
     "shell.execute_reply": "2025-09-05T08:56:11.813485Z",
     "shell.execute_reply.started": "2025-09-05T08:56:11.803487Z"
    }
   },
   "outputs": [
    {
     "name": "stdout",
     "output_type": "stream",
     "text": [
      "Intel64 Family 6 Model 186 Stepping 2, GenuineIntel\n",
      "32(GB)\n",
      "Windows\n",
      "10.0.26100\n",
      "C:\\DataScience\\Lecture\\[DataScience]\n",
      "2024-12-12 00:34:16.155373\n",
      "2025-09-05 17:55:54.887779\n",
      "2025-09-05 17:55:54.887779\n",
      "2025-09-05 17:56:11.810490\n",
      "다음 출력을 파일명으로 설정하고 제출하시오: 김경원_20211011_비즈니스혁신을위한데이터사이언스응용_1반_InputVariableQ\n"
     ]
    }
   ],
   "source": [
    "# 반드시 이 cell을 실행하시오\n",
    "# 실행하지 않을 시 직접 하지 않은 것으로 간주\n",
    "# 마지막 줄 출력으로 파일명을 설정하고 제출 필수\n",
    "import platform, psutil, os, datetime\n",
    "print(platform.processor())\n",
    "print(str(round(psutil.virtual_memory().total / (1024.0 **3)))+\"(GB)\")\n",
    "print(platform.system())\n",
    "print(platform.version())\n",
    "print(os.getcwd())\n",
    "print(datetime.datetime.fromtimestamp(os.path.getctime(os.getcwd())))\n",
    "print(datetime.datetime.fromtimestamp(os.path.getmtime(os.getcwd())))\n",
    "print(datetime.datetime.fromtimestamp(os.path.getatime(os.getcwd())))\n",
    "print(datetime.datetime.now())\n",
    "title = 'InputVariableQ'    # 고정값\n",
    "name = '김경원'    # 본인 이름을 작성\n",
    "studentid = '20211011'    # 본인 학번을 작성\n",
    "course = '비즈니스혁신을위한데이터사이언스응용'    # '비즈니스데이터사이언스이해', '비즈니스혁신을위한데이터사이언스응용'\n",
    "course_number = '1반'    #  학수번호 끝자리\n",
    "                         # 비즈니스데이터사이언스의이해 (0010885001) => 1반\n",
    "                         # 비즈니스데이터사이언스의이해 (0010885002) => 2반\n",
    "                         # 비즈니스혁신을위한데이터사이언스응용 (1002667001) => 1반\n",
    "print('다음 출력을 파일명으로 설정하고 제출하시오:', name + '_' + studentid + '_' + course + '_' + course_number + '_' + title)"
   ]
  }
 ],
 "metadata": {
  "hide_input": false,
  "kernelspec": {
   "display_name": "Python 3 (ipykernel)",
   "language": "python",
   "name": "python3"
  },
  "language_info": {
   "codemirror_mode": {
    "name": "ipython",
    "version": 3
   },
   "file_extension": ".py",
   "mimetype": "text/x-python",
   "name": "python",
   "nbconvert_exporter": "python",
   "pygments_lexer": "ipython3",
   "version": "3.12.3"
  },
  "toc": {
   "base_numbering": 1,
   "nav_menu": {},
   "number_sections": true,
   "sideBar": true,
   "skip_h1_title": false,
   "title_cell": "Table of Contents",
   "title_sidebar": "Contents",
   "toc_cell": false,
   "toc_position": {
    "height": "calc(100% - 180px)",
    "left": "10px",
    "top": "150px",
    "width": "308.823px"
   },
   "toc_section_display": true,
   "toc_window_display": true
  },
  "varInspector": {
   "cols": {
    "lenName": 16,
    "lenType": 16,
    "lenVar": 40
   },
   "kernels_config": {
    "python": {
     "delete_cmd_postfix": "",
     "delete_cmd_prefix": "del ",
     "library": "var_list.py",
     "varRefreshCmd": "print(var_dic_list())"
    },
    "r": {
     "delete_cmd_postfix": ") ",
     "delete_cmd_prefix": "rm(",
     "library": "var_list.r",
     "varRefreshCmd": "cat(var_dic_list()) "
    }
   },
   "position": {
    "height": "388.4px",
    "left": "850.92px",
    "right": "20px",
    "top": "120px",
    "width": "347px"
   },
   "types_to_exclude": [
    "module",
    "function",
    "builtin_function_or_method",
    "instance",
    "_Feature"
   ],
   "window_display": false
  }
 },
 "nbformat": 4,
 "nbformat_minor": 4
}
