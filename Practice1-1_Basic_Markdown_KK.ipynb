{
 "cells": [
  {
   "cell_type": "markdown",
   "metadata": {},
   "source": [
    "# **Markdown 사용법**\n",
    "\n",
    "[![Open in Colab](http://colab.research.google.com/assets/colab-badge.svg)](https://colab.research.google.com/github/thekimk/Tutorial-Python-Programming/blob/main/Practice1-1_Basic_Markdown_KK.ipynb)\n",
    "\n",
    "> **\"단순한 텍스트 문서 작성을 위한 서식(문법)\"**\n",
    "> - 텍스트 기반 경량 **`마크업(Martup)`** 언어 중 하나로 마크다운을 작성하면 웹페이지 형태로 변환/출력 함\n",
    "> - 웹페이지, 블로그, 깃허브(Github) 등 웹상 문서의 내용을 효과적 전달하기 위해 사용\n",
    "> - **HTML(Hypertext Markup Language,하이퍼텍스트 마크업 언어):** 프로그래밍 언어는 아니고, 웹페이지가 어떻게 구조화되어 있는지 브라우저에 표현해주는 마크업 언어\n",
    "> - 웹페이지의 **`Raw 형태`** 가 존재할 것이고, 그 형태를 **`Markdown으로 작성(코딩)`** 하면 **`웹형식으로 구조화`**\n",
    "> - HTML과 연관성이 있기 때문에 마크다운에서 **`HTML의 문법 사용가능`**\n",
    "> - 서식 작성이 쉬운 장점이 있지만 제공하는 기능이 다소 적어 HTML 문법을 함께 쓰는 편\n",
    "> - Markdown 셀로 변환 후, 내용을 작성하고 실행하면 HTML 형식으로 변환/출력 됨\n",
    ">> - **Code $\\rightarrow$ Markdown:** m\n",
    ">> - **Markdown $\\rightarrow$ Code:** y"
   ]
  },
  {
   "cell_type": "markdown",
   "metadata": {},
   "source": [
    "## 제목지정\n",
    "\n",
    "> - **`#`** 기호로 제목을 지정함\n",
    "> - **`#`** 기호의 갯수를 늘려 하위 제목으로 구조화 가능(글씨 크기는 작아짐)\n",
    "> - **`#`** 기호와 제목 사이에는 1개의 띄어쓰기가 필요(대부분의 마크다운 문법이 유사함)\n",
    "> - 최대 6개까지 제목 수준으로 지정 가능\n",
    "> - 단축키로는 숫자키 1~6 사이의 값의로 제목 지정 가능"
   ]
  },
  {
   "cell_type": "markdown",
   "metadata": {},
   "source": [
    "- **Markdown 문법:**\n",
    "\n",
    "```markdown\n",
    "# Header 1\n",
    "## Header 2\n",
    "### Header 3\n",
    "#### Header 4\n",
    "##### Header 5\n",
    "###### Header 6\n",
    "####### Header 7\n",
    "```"
   ]
  },
  {
   "cell_type": "markdown",
   "metadata": {},
   "source": [
    "- **HTML 문법:**\n",
    "\n",
    "```html\n",
    "<h1>Header 1</h1>\n",
    "<h2>Header 2</h2>\n",
    "<h3>Header 3</h3>\n",
    "<h4>Header 4</h4>\n",
    "<h5>Header 5</h5>\n",
    "<h6>Header 6</h6>\n",
    "<h7>Header 7</h7>\n",
    "```"
   ]
  },
  {
   "cell_type": "markdown",
   "metadata": {},
   "source": []
  },
  {
   "cell_type": "markdown",
   "metadata": {},
   "source": [
    "## 인용하기\n",
    "\n",
    "> - 인용문은 **`>`** 기호를 사용\n",
    "> - **`>`** 기호의 갯수를 늘려 들여쓰기가 적용된 하위 구조로 반영\n",
    "\n",
    "```markdown\n",
    "> 대한민국 서울시 어디구?\n",
    ">> 마크다운 문법을 배우고 있습니다.\n",
    ">>> 예를 들어서, **강조**도 배우고 수식도 이렇게 $y=2x$ 반영하면 된다고 합니다.\n",
    "```"
   ]
  },
  {
   "cell_type": "markdown",
   "metadata": {},
   "source": []
  },
  {
   "cell_type": "markdown",
   "metadata": {},
   "source": [
    "## 목록생성(List, Level)\n",
    "\n",
    "1) 순서가 있는 목록은 숫자로 표현하며, **`.`**이 반영된 경우 목록으로 인식\n",
    "\n",
    "```markdown\n",
    "1. 첫번째\n",
    "2. 두번째\n",
    "3. 세번째\n",
    "```\n",
    "\n",
    "```markdown\n",
    "1) 첫번째\n",
    "2) 두번째\n",
    "3) 세번째\n",
    "```"
   ]
  },
  {
   "cell_type": "markdown",
   "metadata": {},
   "source": []
  },
  {
   "cell_type": "markdown",
   "metadata": {},
   "source": [
    "2) 순서가 없는 목록은 **`*, +, -`** 로 표현할 수 있고 어떤걸 쓰던 동일한 점기호로 표현\n",
    "\n",
    "```markdown\n",
    "* 별표\n",
    "+ 더하기\n",
    "- 빼기\n",
    "```"
   ]
  },
  {
   "cell_type": "markdown",
   "metadata": {},
   "source": []
  },
  {
   "cell_type": "markdown",
   "metadata": {},
   "source": [
    "3) 들여쓰기로 수준(Level)을 표현할 수 있으며 **`띄어쓰기`** 또는 **`Tab`** 으로 구현 가능\n",
    "\n",
    "```markdown\n",
    "* 첫번째 수준\n",
    "    * 두번째 수준\n",
    "    * 두번째 수준의 추가설명\n",
    "        * 세번째 수준\n",
    "```\n",
    "\n",
    "```markdown\n",
    "1. 첫번째 수준\n",
    "    1. 두번째 수준\n",
    "    2. 두번째 수준의 추가설명\n",
    "        1. 세번째 수준\n",
    "```\n",
    "\n",
    "```markdown\n",
    "1. 첫번째 수준\n",
    "    * 1-1\n",
    "    * 1-2\n",
    "2. 두번째 수준\n",
    "    - 2-1\n",
    "    - 2-2\n",
    "```"
   ]
  },
  {
   "cell_type": "markdown",
   "metadata": {},
   "source": []
  },
  {
   "cell_type": "markdown",
   "metadata": {},
   "source": [
    "## 수평선\n",
    "\n",
    "> - 내용이 바뀔 때 수평선을 그어서 구분할 때 사용하며 회색선으로 표시됨\n",
    "\n",
    "```markdown\n",
    "***\n",
    "---\n",
    "<hr>\n",
    "```"
   ]
  },
  {
   "cell_type": "markdown",
   "metadata": {},
   "source": []
  },
  {
   "cell_type": "markdown",
   "metadata": {},
   "source": [
    "## 줄바꿈\n",
    "\n",
    "> - 줄바꿈을 하기 위해 **`Enter`** 를 아무리 쳐도 줄바꿈이 되지 않음\n",
    "> - 줄바꿈 문법은 **`Space 2회`** 또는 **`<br>`** 을 사용 (보통은 **`<br>`** )\n",
    "\n",
    "```markdown\n",
    "1) 첫번째\n",
    "2) 두번째<br>\n",
    "3) 세번째\n",
    "```"
   ]
  },
  {
   "cell_type": "markdown",
   "metadata": {},
   "source": [
    "1) 첫번째  \n",
    "2) 두번째<br>\n",
    "3) 세번째"
   ]
  },
  {
   "cell_type": "markdown",
   "metadata": {},
   "source": [
    "- **Question:** 아래 이미지와 같은 내용을 `마크다운 문법`을 사용하여 바로 애랫줄에 작성하라.\n",
    "\n",
    "![JN_Test1](Image/Basic/JN_Test1.png)"
   ]
  },
  {
   "cell_type": "markdown",
   "metadata": {},
   "source": []
  },
  {
   "cell_type": "markdown",
   "metadata": {},
   "source": [
    "## 글자 형식\n",
    "\n",
    "> - **`span style`** 문법으로 글자 색, 크기, 굵기, 기울기, 글꼴 등을 쉽게 변경 가능\n",
    "\n",
    "**1) 글자색:** color:원하는색\n",
    "\n",
    "```markdown\n",
    "<span style=\"color:red\">빨간색 글씨</span>\n",
    "<span style=\"color:blue\">파란색 글씨</span>\n",
    "<span style=\"color:#F8766D\">16진수색 글씨</span>\n",
    "```"
   ]
  },
  {
   "cell_type": "markdown",
   "metadata": {},
   "source": []
  },
  {
   "cell_type": "markdown",
   "metadata": {},
   "source": [
    "**2) 글자 크기:** font-size:숫자px/숫자%/숫자em\n",
    "\n",
    "```markdown\n",
    "<span style=\"font-size:1px\">1px</span>\n",
    "<span style=\"font-size:5px\">5px</span>\n",
    "<span style=\"font-size:20px\">20px</span>\n",
    "<span style=\"font-size:50px\">50px</span>\n",
    "```"
   ]
  },
  {
   "cell_type": "markdown",
   "metadata": {},
   "source": []
  },
  {
   "cell_type": "markdown",
   "metadata": {},
   "source": [
    "**3) 굵기/기울임/칠하기:** font-weight:bold & font-style:italic & `글씨`\n",
    "\n",
    "```markdown\n",
    "<span style=\"font-weight:bold\">굵어진다</span>\n",
    "**굵어진다**\n",
    "```\n",
    "\n",
    "```markdown\n",
    "<span style=\"font-style:italic\">기울어진다</span>\n",
    "*`기울`어진다*\n",
    "```"
   ]
  },
  {
   "cell_type": "markdown",
   "metadata": {},
   "source": [
    "*`기울`어진다*"
   ]
  },
  {
   "cell_type": "markdown",
   "metadata": {},
   "source": [
    "**4) 글꼴:** font-family:원하는글꼴\n",
    "\n",
    "```markdown\n",
    "<span style=\"font-family:궁서\">궁서체 등장이오</span>\n",
    "```"
   ]
  },
  {
   "cell_type": "markdown",
   "metadata": {},
   "source": []
  },
  {
   "cell_type": "markdown",
   "metadata": {},
   "source": [
    "**5) 응용:** 글자형식을 여러개 사용 가능\n",
    "\n",
    "```markdown\n",
    "<span style=\"font-style:italic; font-weight:bold; color:orange; font-size:20px, font-family:궁서\">나는 누구일까요?</span>\n",
    "```"
   ]
  },
  {
   "cell_type": "markdown",
   "metadata": {},
   "source": [
    "<span style=\"font-style:italic; font-weight:bold; color:orange; font-size:20px, font-family:궁서\">나는 누구일까요?</span>"
   ]
  },
  {
   "cell_type": "markdown",
   "metadata": {},
   "source": [
    "- **Question:** 아래 애국가 소절에 `글자형식 마크다운 문법 5종`을 모두 적용해 보시오\n",
    "\n",
    "```\n",
    "동해물과 백두산이 마르고 닳도록\n",
    "하느님이 보우하사 우리나라만세\n",
    "(후렴)무궁화 삼천리 화려강산 대한사람 대한으로 길이 보전하세\n",
    "```"
   ]
  },
  {
   "cell_type": "markdown",
   "metadata": {},
   "source": []
  },
  {
   "cell_type": "markdown",
   "metadata": {},
   "source": [
    "## 링크 삽입\n",
    "\n",
    "1) 웹페이지 주소를 반영하면 주소 그래로 표현 및 반영\n",
    "\n",
    "```markdown\n",
    "https://finance.yahoo.com/\n",
    "```\n"
   ]
  },
  {
   "cell_type": "markdown",
   "metadata": {},
   "source": []
  },
  {
   "cell_type": "markdown",
   "metadata": {},
   "source": [
    "2) 지정해준 글자에 링크를 연결(**`[ ]`** 와 **`( )`** 사이에 띄어쓰기 없음)\n",
    "\n",
    "```markdown\n",
    "[금융데이터 다운](https://finance.yahoo.com/)\n",
    "```"
   ]
  },
  {
   "cell_type": "markdown",
   "metadata": {},
   "source": []
  },
  {
   "cell_type": "markdown",
   "metadata": {},
   "source": [
    "3) 참조 형태로 매핑되어 반영\n",
    "\n",
    "```markdown\n",
    "데이터 다운이 필요하면 [여기][1]를 누르고,\n",
    "연결이 되지 않으면 [구글][2]에서 검색하면 된다\n",
    "\n",
    "[1]:https://finance.yahoo.com/\n",
    "[2]:https://www.google.com\n",
    "```"
   ]
  },
  {
   "cell_type": "markdown",
   "metadata": {},
   "source": []
  },
  {
   "cell_type": "markdown",
   "metadata": {},
   "source": [
    "## 이미지 삽입\n",
    "\n",
    "> - 기본 문법은 **`![이미지 이름](이미지 주소)`** 로 반영\n",
    "> - 이미지 주소는 웹페이지 주소도 가능하고 PC에 저장된 폴더 경로도 가능\n",
    "\n",
    "```markdown\n",
    "![대한민국 로고가 이렇게 많어?](https://image.shutterstock.com/image-vector/made-south-korea-icon-set-260nw-1346767787.jpg)\n",
    "```\n",
    "\n",
    "> - 이미지 크기를 조절하고 싶으면 **`HTML 형식`** 으로 반영\n",
    "\n",
    "```markdown\n",
    "<img src=\"https://image.shutterstock.com/image-vector/made-south-korea-icon-set-260nw-1346767787.jpg\" width=\"900px\" height=\"300px\" alt=\"Korea Logo\"></img>\n",
    "```"
   ]
  },
  {
   "cell_type": "markdown",
   "metadata": {},
   "source": []
  },
  {
   "cell_type": "markdown",
   "metadata": {},
   "source": [
    "## 동영상 삽입\n",
    "\n",
    "> - 기본 문법은 **`[동영상 이름](동영상 주소)`** 로 반영\n",
    "> - 동영상 주소는 웹페이지 주소도 가능하고 PC에 저장된 폴더 경로도 가능\n",
    "\n",
    "```markdown\n",
    "[아이유 뮤비](https://www.youtube.com/watch?v=QYNwbZHmh8g)\n",
    "```"
   ]
  },
  {
   "cell_type": "markdown",
   "metadata": {},
   "source": [
    "[아이유 뮤비](https://www.youtube.com/watch?v=QYNwbZHmh8g)"
   ]
  },
  {
   "cell_type": "markdown",
   "metadata": {},
   "source": [
    "> - (Youtube 기준) 스크린샷 첨부 문법은 **`[![동영상 이름](동영상 이미지)](동영상 주소)`**\n",
    ">> - **동영상 이미지:** `동영상스크린샷주소/동영상ID/제공이미지.jpg`\n",
    ">> - **동영상스크린샷주소:** https://img.youtube.com/vi/\n",
    ">> - **동영상ID:** QYNwbZHmh8g\n",
    ">> - **제공이미지:**\n",
    ">>> - 0.jpg : 480*360 ( Player background ) \n",
    ">>> - 1.jpg : 120*90 ( start )\n",
    ">>> - 2.jpg : 120*90 ( middle )\n",
    ">>> - 3.jpg : 120*90 ( end ) \n",
    ">>> - hqdefault.jpg : 480*360 ( Player background )\n",
    ">>> - mqdefault.jpg :320*180 ( Player background )\n",
    ">>> - default.jpg :120*90  ( Player background )\n",
    ">>> - sddefault.jpg : 640*480\n",
    ">>> - maxresdefault.jpg : 1920*1080\n",
    "\n",
    "```markdown\n",
    "[![아이유 뮤비](https://img.youtube.com/vi/QYNwbZHmh8g/0.jpg)](https://www.youtube.com/watch?v=QYNwbZHmh8g)\n",
    "```"
   ]
  },
  {
   "cell_type": "markdown",
   "metadata": {},
   "source": [
    "[![아이유 뮤비](https://img.youtube.com/vi/QYNwbZHmh8g/0.jpg)](https://www.youtube.com/watch?v=QYNwbZHmh8g)"
   ]
  },
  {
   "cell_type": "markdown",
   "metadata": {},
   "source": [
    "- **Question:** 본인이 좋아하는 동영상의 링크를 사용하여 `동영상 삽입 마크다운 코드`를 작성해 보시오"
   ]
  },
  {
   "cell_type": "markdown",
   "metadata": {},
   "source": []
  },
  {
   "cell_type": "markdown",
   "metadata": {},
   "source": [
    "## 프로그래밍 코드 삽입\n",
    "\n",
    "> - 코드의 형식을 그래로 반영 가능\n",
    "> - Python, Java, C, HTML, Markdown 등의 왠만한 코드 형식 모두 지원"
   ]
  },
  {
   "cell_type": "markdown",
   "metadata": {
    "ExecuteTime": {
     "end_time": "2021-09-30T03:06:07.738962Z",
     "start_time": "2021-09-30T03:06:07.726995Z"
    }
   },
   "source": [
    "```\n",
    "a = 10\n",
    "print(a)\n",
    "def funcname:\n",
    "    b = 5\n",
    "    return b\n",
    "```\n",
    "\n",
    "```markdown\n",
    "a = 10\n",
    "print(a)\n",
    "def funcname:\n",
    "    b = 5\n",
    "    return b\n",
    "```\n",
    "\n",
    "```python\n",
    "a = 10\n",
    "print(a)\n",
    "def funcname:\n",
    "    b = 5\n",
    "    return b\n",
    "```\n",
    "\n",
    "```java\n",
    "a = 10\n",
    "print(a)\n",
    "def funcname:\n",
    "    b = 5\n",
    "    return b\n",
    "```\n",
    "\n",
    "```html\n",
    "a = 10\n",
    "print(a)\n",
    "def funcname:\n",
    "    b = 5\n",
    "    return b\n",
    "```"
   ]
  },
  {
   "cell_type": "markdown",
   "metadata": {},
   "source": []
  },
  {
   "cell_type": "markdown",
   "metadata": {},
   "source": [
    "## 수식 삽입\n",
    "\n",
    "> - Latex 또는 Tex 문법을 지원하므로 쉽게 <span style=\"color:red\">**수학식**</span> 반영\n",
    "> - **`$`** 와 **`$`** 사이에 수식을 반영하고 실행\n",
    "> - **`$`** 기호를 하나만 쓰면 왼쪽 정렬, 두개를 쓰면 가운데 정렬\n",
    "> - [세부사항](https://en.wikibooks.org/wiki/LaTeX/Mathematics)\n",
    "> - **예시:**\n",
    "\n",
    "<center>\n",
    "$ {h}_{W,b}{(X)} = ϕ(XW+b) $ <br>\n",
    "$ w_{ij}^{(nextstep)} = w_{i,j}+η(y_j−\\hat{y}_j)x_i $\n",
    "</center>\n",
    "\n",
    "```markdown\n",
    "ex1) <br>\n",
    "$y=2x$\n",
    "\n",
    "ex2) <br>\n",
    "$$\\sqrt{3}{x^3+y^3 \\over 2}$$\n",
    "```"
   ]
  },
  {
   "cell_type": "markdown",
   "metadata": {},
   "source": [
    "ex1) <br>\n",
    "$y=2x$\n",
    "\n",
    "ex2) <br>\n",
    "$$\\sqrt{3}{x^3+y^3 \\over 2}$$"
   ]
  },
  {
   "cell_type": "markdown",
   "metadata": {},
   "source": [
    "## 테이블 삽입\n",
    "\n",
    "> - **`|`** 기호로 뼈대를 잡고, 컬럼명과 내용은 **`--`** 기호로 구분\n",
    "> - 글자 형식이나 다른 Markdown 문법 혼용 가능\n",
    "> - [Table Generator](https://www.tablesgenerator.com/latex_tables)로 쉽게 작성 가능\n",
    "\n",
    "```markdown\n",
    "| First Column | Second | Third |\n",
    "| ----- | ----- | ----- |\n",
    "| First Row | Data | Very Long |\n",
    "| Second Row | **Cell** | *Cell* |\n",
    "```"
   ]
  },
  {
   "cell_type": "markdown",
   "metadata": {},
   "source": []
  },
  {
   "cell_type": "markdown",
   "metadata": {},
   "source": [
    "- **Question:** 아래 이미지와 같은 내용을 `마크다운 문법`을 사용하여 바로 애랫줄에 작성하라.\n",
    "\n",
    "<center><img src='Image/Basic/JN_Test2.png' width='500'></center>"
   ]
  },
  {
   "cell_type": "markdown",
   "metadata": {},
   "source": []
  }
 ],
 "metadata": {
  "hide_input": false,
  "kernelspec": {
   "display_name": "Python 3 (ipykernel)",
   "language": "python",
   "name": "python3"
  },
  "language_info": {
   "codemirror_mode": {
    "name": "ipython",
    "version": 3
   },
   "file_extension": ".py",
   "mimetype": "text/x-python",
   "name": "python",
   "nbconvert_exporter": "python",
   "pygments_lexer": "ipython3",
   "version": "3.11.4"
  },
  "toc": {
   "base_numbering": 1,
   "nav_menu": {},
   "number_sections": true,
   "sideBar": true,
   "skip_h1_title": false,
   "title_cell": "Table of Contents",
   "title_sidebar": "Contents",
   "toc_cell": false,
   "toc_position": {
    "height": "calc(100% - 180px)",
    "left": "10px",
    "top": "150px",
    "width": "337.837px"
   },
   "toc_section_display": true,
   "toc_window_display": true
  },
  "varInspector": {
   "cols": {
    "lenName": 16,
    "lenType": 16,
    "lenVar": 40
   },
   "kernels_config": {
    "python": {
     "delete_cmd_postfix": "",
     "delete_cmd_prefix": "del ",
     "library": "var_list.py",
     "varRefreshCmd": "print(var_dic_list())"
    },
    "r": {
     "delete_cmd_postfix": ") ",
     "delete_cmd_prefix": "rm(",
     "library": "var_list.r",
     "varRefreshCmd": "cat(var_dic_list()) "
    }
   },
   "types_to_exclude": [
    "module",
    "function",
    "builtin_function_or_method",
    "instance",
    "_Feature"
   ],
   "window_display": false
  }
 },
 "nbformat": 4,
 "nbformat_minor": 4
}
