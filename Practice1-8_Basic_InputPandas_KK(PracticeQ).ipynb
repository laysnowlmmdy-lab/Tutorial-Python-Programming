{
 "cells": [
  {
   "cell_type": "code",
   "execution_count": 1,
   "metadata": {
    "execution": {
     "iopub.execute_input": "2025-09-05T09:11:19.386784Z",
     "iopub.status.busy": "2025-09-05T09:11:19.385783Z",
     "iopub.status.idle": "2025-09-05T09:11:19.394634Z",
     "shell.execute_reply": "2025-09-05T09:11:19.394634Z",
     "shell.execute_reply.started": "2025-09-05T09:11:19.386784Z"
    },
    "tags": []
   },
   "outputs": [
    {
     "name": "stdout",
     "output_type": "stream",
     "text": [
      "Intel64 Family 6 Model 186 Stepping 2, GenuineIntel\n",
      "32(GB)\n",
      "Windows\n",
      "10.0.26100\n",
      "C:\\DataScience\\Lecture\\[DataScience]\n",
      "2024-12-12 00:34:16.155373\n",
      "2025-09-05 18:11:13.618211\n",
      "2025-09-05 18:11:13.618211\n",
      "2025-09-05 18:11:19.391783\n",
      "다음 출력을 파일명으로 설정하고 제출하시오: 김경원_20211011_비즈니스혁신을위한데이터사이언스응용_1반_InputPandasQ\n"
     ]
    }
   ],
   "source": [
    "# 반드시 이 cell을 실행하시오\n",
    "# 실행하지 않을 시 직접 하지 않은 것으로 간주\n",
    "# 마지막 줄 출력으로 파일명을 설정하고 제출 필수\n",
    "import platform, psutil, os, datetime\n",
    "print(platform.processor())\n",
    "print(str(round(psutil.virtual_memory().total / (1024.0 **3)))+\"(GB)\")\n",
    "print(platform.system())\n",
    "print(platform.version())\n",
    "print(os.getcwd())\n",
    "print(datetime.datetime.fromtimestamp(os.path.getctime(os.getcwd())))\n",
    "print(datetime.datetime.fromtimestamp(os.path.getmtime(os.getcwd())))\n",
    "print(datetime.datetime.fromtimestamp(os.path.getatime(os.getcwd())))\n",
    "print(datetime.datetime.now())\n",
    "title = 'InputPandasQ'    # 고정값\n",
    "name = '김경원'    # 본인 이름을 작성\n",
    "studentid = '20211011'    # 본인 학번을 작성\n",
    "course = '비즈니스혁신을위한데이터사이언스응용'    # '비즈니스데이터사이언스이해', '비즈니스혁신을위한데이터사이언스응용'\n",
    "course_number = '1반'    #  학수번호 끝자리\n",
    "                         # 비즈니스데이터사이언스의이해 (0010885001) => 1반\n",
    "                         # 비즈니스데이터사이언스의이해 (0010885002) => 2반\n",
    "                         # 비즈니스혁신을위한데이터사이언스응용 (1002667001) => 1반\n",
    "print('다음 출력을 파일명으로 설정하고 제출하시오:', name + '_' + studentid + '_' + course + '_' + course_number + '_' + title)"
   ]
  },
  {
   "cell_type": "markdown",
   "metadata": {
    "id": "J8_Y08OagBW6"
   },
   "source": [
    "# **Questions**\n",
    "\n",
    "`아마존`에서 고객들의 `거래내역이 각 열(Row)마다 기록된 데이터`로 주어진 `Task를 작성/출력` 하며, 모든 답안의 길이는 한줄부터 여러줄이 가능하며 제한이 없음\n",
    "\n",
    "- **데이터 정보**\n",
    "\n",
    "> - **파일명:** \n",
    ">> (1) `ecommerce_userinfo.csv`    \n",
    ">> (2) `ecommerce_userpurchase.csv`    \n",
    "> - **파일위치(`윈도우`기준):** \n",
    ">> (1) `os.path.join('.', 'Data', 'Ecommerce', 'ecommerce_userinfo.csv')`    \n",
    ">> (2) `os.path.join('.', 'Data', 'Ecommerce', 'ecommerce_userpurchase.csv')` "
   ]
  },
  {
   "cell_type": "code",
   "execution_count": 2,
   "metadata": {
    "ExecuteTime": {
     "end_time": "2022-07-29T14:05:44.630692Z",
     "start_time": "2022-07-29T14:05:44.618695Z"
    },
    "execution": {
     "iopub.execute_input": "2025-09-05T09:11:19.396642Z",
     "iopub.status.busy": "2025-09-05T09:11:19.395641Z",
     "iopub.status.idle": "2025-09-05T09:11:19.402704Z",
     "shell.execute_reply": "2025-09-05T09:11:19.401697Z",
     "shell.execute_reply.started": "2025-09-05T09:11:19.396642Z"
    },
    "id": "xk3mNKvrgBW6"
   },
   "outputs": [],
   "source": [
    "# 데이터 로딩\n",
    "# Local PC / Colab 파일 선택 / Colab 절대경로 설정 방식들 중 편한 방법 사용\n",
    "# 1) 파일위치의 2개의 csv 파일을 불러들임\n",
    "# 2) 각 DataFrame의 이름은 1. user_info, 2. user_purchase로 변수명 지정\n"
   ]
  },
  {
   "cell_type": "code",
   "execution_count": 3,
   "metadata": {
    "ExecuteTime": {
     "end_time": "2022-07-29T14:05:44.645686Z",
     "start_time": "2022-07-29T14:05:44.633698Z"
    },
    "execution": {
     "iopub.execute_input": "2025-09-05T09:11:19.403704Z",
     "iopub.status.busy": "2025-09-05T09:11:19.403704Z",
     "iopub.status.idle": "2025-09-05T09:11:19.412678Z",
     "shell.execute_reply": "2025-09-05T09:11:19.411672Z",
     "shell.execute_reply.started": "2025-09-05T09:11:19.403704Z"
    },
    "id": "1-iK-0gKgBW6"
   },
   "outputs": [],
   "source": [
    "# user_info와 user_purchase의 첫 10개의 샘플 출력\n"
   ]
  },
  {
   "cell_type": "code",
   "execution_count": 4,
   "metadata": {
    "ExecuteTime": {
     "end_time": "2022-07-29T14:05:44.660693Z",
     "start_time": "2022-07-29T14:05:44.647687Z"
    },
    "execution": {
     "iopub.execute_input": "2025-09-05T09:11:19.413679Z",
     "iopub.status.busy": "2025-09-05T09:11:19.412678Z",
     "iopub.status.idle": "2025-09-05T09:11:19.421831Z",
     "shell.execute_reply": "2025-09-05T09:11:19.421831Z",
     "shell.execute_reply.started": "2025-09-05T09:11:19.413679Z"
    },
    "id": "0SYA0UihgBW7"
   },
   "outputs": [],
   "source": [
    "# user_info와 user_purchase의 행과 열의 크기 출력\n"
   ]
  },
  {
   "cell_type": "code",
   "execution_count": 5,
   "metadata": {
    "ExecuteTime": {
     "end_time": "2022-07-29T14:05:44.676685Z",
     "start_time": "2022-07-29T14:05:44.664690Z"
    },
    "execution": {
     "iopub.execute_input": "2025-09-05T09:11:19.423838Z",
     "iopub.status.busy": "2025-09-05T09:11:19.423838Z",
     "iopub.status.idle": "2025-09-05T09:11:19.430984Z",
     "shell.execute_reply": "2025-09-05T09:11:19.430984Z",
     "shell.execute_reply.started": "2025-09-05T09:11:19.423838Z"
    },
    "id": "rRAxQEDKgBW7"
   },
   "outputs": [],
   "source": [
    "# user_info와 user_purchase의 정보를 출력하여 데이터의 타입(Dtype)을 확인\n"
   ]
  },
  {
   "cell_type": "code",
   "execution_count": 6,
   "metadata": {
    "ExecuteTime": {
     "end_time": "2022-07-29T14:05:44.691686Z",
     "start_time": "2022-07-29T14:05:44.678686Z"
    },
    "execution": {
     "iopub.execute_input": "2025-09-05T09:11:19.434990Z",
     "iopub.status.busy": "2025-09-05T09:11:19.434990Z",
     "iopub.status.idle": "2025-09-05T09:11:19.440347Z",
     "shell.execute_reply": "2025-09-05T09:11:19.440347Z",
     "shell.execute_reply.started": "2025-09-05T09:11:19.434990Z"
    },
    "id": "9lf5rW29gBW7"
   },
   "outputs": [],
   "source": [
    "# user_info와 user_purchase의 컬럼명 출력\n"
   ]
  },
  {
   "cell_type": "code",
   "execution_count": 7,
   "metadata": {
    "ExecuteTime": {
     "end_time": "2022-07-29T14:05:44.706687Z",
     "start_time": "2022-07-29T14:05:44.693687Z"
    },
    "execution": {
     "iopub.execute_input": "2025-09-05T09:11:19.442362Z",
     "iopub.status.busy": "2025-09-05T09:11:19.441391Z",
     "iopub.status.idle": "2025-09-05T09:11:19.450229Z",
     "shell.execute_reply": "2025-09-05T09:11:19.450229Z",
     "shell.execute_reply.started": "2025-09-05T09:11:19.442362Z"
    },
    "id": "3VXEFEhZgBW7"
   },
   "outputs": [],
   "source": [
    "# user_info 데이터에서 1000, 2000, 3000, 4000, 5000, 6000, 7000번째 인덱스 행 삭제 후 저장\n"
   ]
  },
  {
   "cell_type": "code",
   "execution_count": 8,
   "metadata": {
    "ExecuteTime": {
     "end_time": "2022-07-29T14:05:44.721688Z",
     "start_time": "2022-07-29T14:05:44.707686Z"
    },
    "execution": {
     "iopub.execute_input": "2025-09-05T09:11:19.452236Z",
     "iopub.status.busy": "2025-09-05T09:11:19.452236Z",
     "iopub.status.idle": "2025-09-05T09:11:19.459225Z",
     "shell.execute_reply": "2025-09-05T09:11:19.459225Z",
     "shell.execute_reply.started": "2025-09-05T09:11:19.452236Z"
    },
    "id": "lo83HEPxgBW7"
   },
   "outputs": [],
   "source": [
    "# user_purchase 데이터에서 Company, Browser Info 열 삭제 후 저장\n"
   ]
  },
  {
   "cell_type": "code",
   "execution_count": 9,
   "metadata": {
    "ExecuteTime": {
     "end_time": "2022-07-29T14:05:44.736684Z",
     "start_time": "2022-07-29T14:05:44.724696Z"
    },
    "execution": {
     "iopub.execute_input": "2025-09-05T09:11:19.461242Z",
     "iopub.status.busy": "2025-09-05T09:11:19.461242Z",
     "iopub.status.idle": "2025-09-05T09:11:19.467692Z",
     "shell.execute_reply": "2025-09-05T09:11:19.467692Z",
     "shell.execute_reply.started": "2025-09-05T09:11:19.461242Z"
    },
    "id": "EOLk0w_YgBW8"
   },
   "outputs": [],
   "source": [
    "# user_purchase 데이터에서 컬럼명 변경 후 저장\n",
    "# Language를 대문자 LANGUAGE로 변경\n"
   ]
  },
  {
   "cell_type": "code",
   "execution_count": 10,
   "metadata": {
    "ExecuteTime": {
     "end_time": "2022-07-29T14:05:44.751686Z",
     "start_time": "2022-07-29T14:05:44.737688Z"
    },
    "execution": {
     "iopub.execute_input": "2025-09-05T09:11:19.469708Z",
     "iopub.status.busy": "2025-09-05T09:11:19.468707Z",
     "iopub.status.idle": "2025-09-05T09:11:19.476746Z",
     "shell.execute_reply": "2025-09-05T09:11:19.476746Z",
     "shell.execute_reply.started": "2025-09-05T09:11:19.469708Z"
    },
    "id": "7EfQm9fggBW8"
   },
   "outputs": [],
   "source": [
    "# user_info와 user_purchase의 기초통계 출력\n",
    "# 문자값이 있다면 문자값도 통계정보를 출력\n"
   ]
  },
  {
   "cell_type": "code",
   "execution_count": 11,
   "metadata": {
    "ExecuteTime": {
     "end_time": "2022-07-29T14:05:44.766687Z",
     "start_time": "2022-07-29T14:05:44.753687Z"
    },
    "execution": {
     "iopub.execute_input": "2025-09-05T09:11:19.477875Z",
     "iopub.status.busy": "2025-09-05T09:11:19.477875Z",
     "iopub.status.idle": "2025-09-05T09:11:19.485147Z",
     "shell.execute_reply": "2025-09-05T09:11:19.485147Z",
     "shell.execute_reply.started": "2025-09-05T09:11:19.477875Z"
    },
    "id": "s0G3caT8gBW8"
   },
   "outputs": [],
   "source": [
    "# user_info와 user_purchase의 각 컬럼별 고유값(nunique)의 갯수를 출력\n",
    "# 컬럼명과 고유값을 함께 출력 ex) IP Address 100\n"
   ]
  },
  {
   "cell_type": "code",
   "execution_count": 12,
   "metadata": {
    "ExecuteTime": {
     "end_time": "2022-07-29T14:05:44.781686Z",
     "start_time": "2022-07-29T14:05:44.768687Z"
    },
    "execution": {
     "iopub.execute_input": "2025-09-05T09:11:19.487156Z",
     "iopub.status.busy": "2025-09-05T09:11:19.486156Z",
     "iopub.status.idle": "2025-09-05T09:11:19.493689Z",
     "shell.execute_reply": "2025-09-05T09:11:19.493689Z",
     "shell.execute_reply.started": "2025-09-05T09:11:19.487156Z"
    },
    "id": "aU3bX_CtgBW8"
   },
   "outputs": [],
   "source": [
    "# user_info와 user_purchase에서,\n",
    "# (반복문과 조건문 사용하여) 고유값(nunique) 갯수와 데이터프레임의 행의 수가 일치하는 컬럼명 출력\n"
   ]
  },
  {
   "cell_type": "code",
   "execution_count": 13,
   "metadata": {
    "ExecuteTime": {
     "end_time": "2022-07-29T14:05:44.796723Z",
     "start_time": "2022-07-29T14:05:44.784722Z"
    },
    "execution": {
     "iopub.execute_input": "2025-09-05T09:11:19.494704Z",
     "iopub.status.busy": "2025-09-05T09:11:19.494704Z",
     "iopub.status.idle": "2025-09-05T09:11:19.503209Z",
     "shell.execute_reply": "2025-09-05T09:11:19.502703Z",
     "shell.execute_reply.started": "2025-09-05T09:11:19.494704Z"
    },
    "id": "imipn5dygBW8"
   },
   "outputs": [],
   "source": [
    "# 위에서 찾은 컬럼명들 중 데이터 병합시 key값으로 사용할 컬럼명을 아래 주석에 작성\n",
    "# user_info : \n",
    "# user_purchase : "
   ]
  },
  {
   "cell_type": "code",
   "execution_count": 14,
   "metadata": {
    "ExecuteTime": {
     "end_time": "2022-07-29T14:05:44.811688Z",
     "start_time": "2022-07-29T14:05:44.798688Z"
    },
    "execution": {
     "iopub.execute_input": "2025-09-05T09:11:19.504216Z",
     "iopub.status.busy": "2025-09-05T09:11:19.504216Z",
     "iopub.status.idle": "2025-09-05T09:11:19.511782Z",
     "shell.execute_reply": "2025-09-05T09:11:19.511245Z",
     "shell.execute_reply.started": "2025-09-05T09:11:19.504216Z"
    },
    "id": "YAeANQxdgBW8"
   },
   "outputs": [],
   "source": [
    "# user_info와 user_purchase를 inner join으로 병합\n",
    "# 1) 병합 방법은 pandas를 사용할 것\n",
    "# 2) 병합된 데이터는 ecommerce 변수명으로 저장할 것\n"
   ]
  },
  {
   "cell_type": "code",
   "execution_count": 15,
   "metadata": {
    "ExecuteTime": {
     "end_time": "2022-07-29T14:05:44.826685Z",
     "start_time": "2022-07-29T14:05:44.813687Z"
    },
    "execution": {
     "iopub.execute_input": "2025-09-05T09:11:19.512799Z",
     "iopub.status.busy": "2025-09-05T09:11:19.512799Z",
     "iopub.status.idle": "2025-09-05T09:11:19.519797Z",
     "shell.execute_reply": "2025-09-05T09:11:19.519797Z",
     "shell.execute_reply.started": "2025-09-05T09:11:19.512799Z"
    },
    "id": "-SNGzh8ugBW9"
   },
   "outputs": [],
   "source": [
    "# 병합 데이터의 기초통계 출력\n",
    "# 문자값이 있다면 문자값도 통계정보를 출력\n",
    "# 최종 출력은 대칭으로 회전하여 출력\n"
   ]
  },
  {
   "cell_type": "code",
   "execution_count": 16,
   "metadata": {
    "ExecuteTime": {
     "end_time": "2022-07-29T14:05:44.856717Z",
     "start_time": "2022-07-29T14:05:44.842687Z"
    },
    "execution": {
     "iopub.execute_input": "2025-09-05T09:11:19.520832Z",
     "iopub.status.busy": "2025-09-05T09:11:19.520832Z",
     "iopub.status.idle": "2025-09-05T09:11:19.527856Z",
     "shell.execute_reply": "2025-09-05T09:11:19.527856Z",
     "shell.execute_reply.started": "2025-09-05T09:11:19.520832Z"
    },
    "id": "HG38sThEgBW9"
   },
   "outputs": [],
   "source": [
    "# 구매가격의 최소값, 평균, 중앙값, 최대값은 얼마인가?\n"
   ]
  },
  {
   "cell_type": "code",
   "execution_count": 17,
   "metadata": {
    "execution": {
     "iopub.execute_input": "2025-09-05T09:11:19.529863Z",
     "iopub.status.busy": "2025-09-05T09:11:19.528861Z",
     "iopub.status.idle": "2025-09-05T09:11:19.536733Z",
     "shell.execute_reply": "2025-09-05T09:11:19.536733Z",
     "shell.execute_reply.started": "2025-09-05T09:11:19.529863Z"
    }
   },
   "outputs": [],
   "source": [
    "# 오전과 오후의 거래량은 어떻게 되는가?\n"
   ]
  },
  {
   "cell_type": "code",
   "execution_count": 18,
   "metadata": {
    "ExecuteTime": {
     "end_time": "2022-07-29T14:05:44.871692Z",
     "start_time": "2022-07-29T14:05:44.858688Z"
    },
    "execution": {
     "iopub.execute_input": "2025-09-05T09:11:19.537738Z",
     "iopub.status.busy": "2025-09-05T09:11:19.537738Z",
     "iopub.status.idle": "2025-09-05T09:11:19.544864Z",
     "shell.execute_reply": "2025-09-05T09:11:19.544864Z",
     "shell.execute_reply.started": "2025-09-05T09:11:19.537738Z"
    },
    "id": "lx2jY-vHgBW9"
   },
   "outputs": [],
   "source": [
    "# 영어(en)를 사용하여 거래를 한 IP 주소의 갯수는 얼마인가?\n"
   ]
  },
  {
   "cell_type": "code",
   "execution_count": 19,
   "metadata": {
    "execution": {
     "iopub.execute_input": "2025-09-05T09:11:19.545870Z",
     "iopub.status.busy": "2025-09-05T09:11:19.545870Z",
     "iopub.status.idle": "2025-09-05T09:11:19.553890Z",
     "shell.execute_reply": "2025-09-05T09:11:19.553890Z",
     "shell.execute_reply.started": "2025-09-05T09:11:19.545870Z"
    }
   },
   "outputs": [],
   "source": [
    "# 가장 많은 거래에 사용된 이메일 주소는 무엇인가?\n"
   ]
  },
  {
   "cell_type": "code",
   "execution_count": 20,
   "metadata": {
    "ExecuteTime": {
     "end_time": "2022-07-29T14:05:44.916686Z",
     "start_time": "2022-07-29T14:05:44.902721Z"
    },
    "execution": {
     "iopub.execute_input": "2025-09-05T09:11:19.554975Z",
     "iopub.status.busy": "2025-09-05T09:11:19.554975Z",
     "iopub.status.idle": "2025-09-05T09:11:19.562911Z",
     "shell.execute_reply": "2025-09-05T09:11:19.562911Z",
     "shell.execute_reply.started": "2025-09-05T09:11:19.554975Z"
    },
    "id": "9siw1osmgBW-"
   },
   "outputs": [],
   "source": [
    "# 거래가 많은 top 5 고객 별 직업은 무엇인가?\n"
   ]
  },
  {
   "cell_type": "code",
   "execution_count": 21,
   "metadata": {
    "execution": {
     "iopub.execute_input": "2025-09-05T09:11:19.564918Z",
     "iopub.status.busy": "2025-09-05T09:11:19.564918Z",
     "iopub.status.idle": "2025-09-05T09:11:19.573245Z",
     "shell.execute_reply": "2025-09-05T09:11:19.572240Z",
     "shell.execute_reply.started": "2025-09-05T09:11:19.564918Z"
    }
   },
   "outputs": [],
   "source": [
    "# 직업이 \"Lawyer\"인 사람이 거래를 한 IP 주소의 갯수는 얼마인가?\n"
   ]
  },
  {
   "cell_type": "code",
   "execution_count": 22,
   "metadata": {
    "ExecuteTime": {
     "end_time": "2022-07-29T14:05:44.931716Z",
     "start_time": "2022-07-29T14:05:44.918686Z"
    },
    "execution": {
     "iopub.execute_input": "2025-09-05T09:11:19.574245Z",
     "iopub.status.busy": "2025-09-05T09:11:19.574245Z",
     "iopub.status.idle": "2025-09-05T09:11:19.580632Z",
     "shell.execute_reply": "2025-09-05T09:11:19.580632Z",
     "shell.execute_reply.started": "2025-09-05T09:11:19.574245Z"
    },
    "id": "cFrHAHl2gBW-"
   },
   "outputs": [],
   "source": [
    "# 카드번호가 4917375496558677로 결제한 고객이 취소를 요청한다 고객의 이메일은 무엇인가?\n"
   ]
  },
  {
   "cell_type": "code",
   "execution_count": 23,
   "metadata": {
    "ExecuteTime": {
     "end_time": "2022-07-29T14:05:44.946716Z",
     "start_time": "2022-07-29T14:05:44.932716Z"
    },
    "execution": {
     "iopub.execute_input": "2025-09-05T09:11:19.582639Z",
     "iopub.status.busy": "2025-09-05T09:11:19.581638Z",
     "iopub.status.idle": "2025-09-05T09:11:19.588940Z",
     "shell.execute_reply": "2025-09-05T09:11:19.588940Z",
     "shell.execute_reply.started": "2025-09-05T09:11:19.581638Z"
    },
    "id": "EgL-c0RXgBW-"
   },
   "outputs": [],
   "source": [
    "# 카드종류가(CC Provider) American Express를 사용하여 99달러 이상 주문한 거래내역을 출력하라\n"
   ]
  },
  {
   "cell_type": "code",
   "execution_count": 24,
   "metadata": {
    "ExecuteTime": {
     "end_time": "2024-11-17T15:07:02.846250Z",
     "start_time": "2024-11-17T15:07:02.843972Z"
    },
    "execution": {
     "iopub.execute_input": "2025-09-05T09:11:19.590945Z",
     "iopub.status.busy": "2025-09-05T09:11:19.589945Z",
     "iopub.status.idle": "2025-09-05T09:11:19.598506Z",
     "shell.execute_reply": "2025-09-05T09:11:19.597963Z",
     "shell.execute_reply.started": "2025-09-05T09:11:19.590945Z"
    }
   },
   "outputs": [],
   "source": [
    "# 구매자들의 사용언어에 따라 총 구매금액은 어떻게 차이가 있는가?\n"
   ]
  },
  {
   "cell_type": "code",
   "execution_count": 25,
   "metadata": {
    "ExecuteTime": {
     "end_time": "2024-11-17T15:07:04.646029Z",
     "start_time": "2024-11-17T15:07:04.643614Z"
    },
    "execution": {
     "iopub.execute_input": "2025-09-05T09:11:19.599521Z",
     "iopub.status.busy": "2025-09-05T09:11:19.599521Z",
     "iopub.status.idle": "2025-09-05T09:11:19.605874Z",
     "shell.execute_reply": "2025-09-05T09:11:19.605874Z",
     "shell.execute_reply.started": "2025-09-05T09:11:19.599521Z"
    }
   },
   "outputs": [],
   "source": [
    "# 오전과 오후에 주문한 총 구매금액은 어떻게 차이가 있는가?\n"
   ]
  },
  {
   "cell_type": "code",
   "execution_count": 26,
   "metadata": {
    "ExecuteTime": {
     "end_time": "2024-11-17T15:07:06.478058Z",
     "start_time": "2024-11-17T15:07:06.476399Z"
    },
    "execution": {
     "iopub.execute_input": "2025-09-05T09:11:19.607881Z",
     "iopub.status.busy": "2025-09-05T09:11:19.607881Z",
     "iopub.status.idle": "2025-09-05T09:11:19.614880Z",
     "shell.execute_reply": "2025-09-05T09:11:19.614880Z",
     "shell.execute_reply.started": "2025-09-05T09:11:19.607881Z"
    }
   },
   "outputs": [],
   "source": [
    "# 직업에 따른 평균 구매금액의 top 10을 출력하라\n"
   ]
  },
  {
   "cell_type": "code",
   "execution_count": 27,
   "metadata": {
    "ExecuteTime": {
     "end_time": "2024-11-17T15:07:08.090919Z",
     "start_time": "2024-11-17T15:07:08.088351Z"
    },
    "execution": {
     "iopub.execute_input": "2025-09-05T09:11:19.616074Z",
     "iopub.status.busy": "2025-09-05T09:11:19.616074Z",
     "iopub.status.idle": "2025-09-05T09:11:19.622505Z",
     "shell.execute_reply": "2025-09-05T09:11:19.622505Z",
     "shell.execute_reply.started": "2025-09-05T09:11:19.616074Z"
    }
   },
   "outputs": [],
   "source": [
    "# 카드사별 오전과 오후 구매금액 평균을 구하시오\n"
   ]
  },
  {
   "cell_type": "code",
   "execution_count": 28,
   "metadata": {
    "ExecuteTime": {
     "end_time": "2024-11-17T15:07:09.595779Z",
     "start_time": "2024-11-17T15:07:09.594009Z"
    },
    "execution": {
     "iopub.execute_input": "2025-09-05T09:11:19.624512Z",
     "iopub.status.busy": "2025-09-05T09:11:19.624512Z",
     "iopub.status.idle": "2025-09-05T09:11:19.632019Z",
     "shell.execute_reply": "2025-09-05T09:11:19.631512Z",
     "shell.execute_reply.started": "2025-09-05T09:11:19.624512Z"
    }
   },
   "outputs": [],
   "source": [
    "# 주소가 아파트('Apt.')인 거래의 직업별 구매금액 평균을 구하시오\n"
   ]
  },
  {
   "cell_type": "code",
   "execution_count": 29,
   "metadata": {
    "execution": {
     "iopub.execute_input": "2025-09-05T09:11:19.633028Z",
     "iopub.status.busy": "2025-09-05T09:11:19.633028Z",
     "iopub.status.idle": "2025-09-05T09:11:19.642536Z",
     "shell.execute_reply": "2025-09-05T09:11:19.642536Z",
     "shell.execute_reply.started": "2025-09-05T09:11:19.633028Z"
    },
    "tags": []
   },
   "outputs": [
    {
     "name": "stdout",
     "output_type": "stream",
     "text": [
      "Intel64 Family 6 Model 186 Stepping 2, GenuineIntel\n",
      "32(GB)\n",
      "Windows\n",
      "10.0.26100\n",
      "C:\\DataScience\\Lecture\\[DataScience]\n",
      "2024-12-12 00:34:16.155373\n",
      "2025-09-05 18:11:13.618211\n",
      "2025-09-05 18:11:13.618211\n",
      "2025-09-05 18:11:19.640026\n",
      "다음 출력을 파일명으로 설정하고 제출하시오: 김경원_20211011_비즈니스혁신을위한데이터사이언스응용_1반_InputPandasQ\n"
     ]
    }
   ],
   "source": [
    "# 반드시 이 cell을 실행하시오\n",
    "# 실행하지 않을 시 직접 하지 않은 것으로 간주\n",
    "# 마지막 줄 출력으로 파일명을 설정하고 제출 필수\n",
    "import platform, psutil, os, datetime\n",
    "print(platform.processor())\n",
    "print(str(round(psutil.virtual_memory().total / (1024.0 **3)))+\"(GB)\")\n",
    "print(platform.system())\n",
    "print(platform.version())\n",
    "print(os.getcwd())\n",
    "print(datetime.datetime.fromtimestamp(os.path.getctime(os.getcwd())))\n",
    "print(datetime.datetime.fromtimestamp(os.path.getmtime(os.getcwd())))\n",
    "print(datetime.datetime.fromtimestamp(os.path.getatime(os.getcwd())))\n",
    "print(datetime.datetime.now())\n",
    "title = 'InputPandasQ'    # 고정값\n",
    "name = '김경원'    # 본인 이름을 작성\n",
    "studentid = '20211011'    # 본인 학번을 작성\n",
    "course = '비즈니스혁신을위한데이터사이언스응용'    # '비즈니스데이터사이언스이해', '비즈니스혁신을위한데이터사이언스응용'\n",
    "course_number = '1반'    #  학수번호 끝자리\n",
    "                         # 비즈니스데이터사이언스의이해 (0010885001) => 1반\n",
    "                         # 비즈니스데이터사이언스의이해 (0010885002) => 2반\n",
    "                         # 비즈니스혁신을위한데이터사이언스응용 (1002667001) => 1반\n",
    "print('다음 출력을 파일명으로 설정하고 제출하시오:', name + '_' + studentid + '_' + course + '_' + course_number + '_' + title)"
   ]
  }
 ],
 "metadata": {
  "colab": {
   "collapsed_sections": [
    "FQeApKRMgBWR",
    "AslK6Lw9gBWa",
    "zcbgRUq4gBWo",
    "lY8OrReCgBWs",
    "H901_KnqgBWt",
    "IN7XGSATgBWt",
    "Zoih49F_gBWu",
    "pkgKBmqMgBWy",
    "uhunUHMagBW1",
    "J8_Y08OagBW6"
   ],
   "name": "Practice1-10_Basic_InputDataFrame_KK.ipynb",
   "provenance": [],
   "toc_visible": true
  },
  "hide_input": false,
  "kernelspec": {
   "display_name": "Python 3 (ipykernel)",
   "language": "python",
   "name": "python3"
  },
  "language_info": {
   "codemirror_mode": {
    "name": "ipython",
    "version": 3
   },
   "file_extension": ".py",
   "mimetype": "text/x-python",
   "name": "python",
   "nbconvert_exporter": "python",
   "pygments_lexer": "ipython3",
   "version": "3.12.3"
  },
  "toc": {
   "base_numbering": 1,
   "nav_menu": {},
   "number_sections": true,
   "sideBar": true,
   "skip_h1_title": false,
   "title_cell": "Table of Contents",
   "title_sidebar": "Contents",
   "toc_cell": false,
   "toc_position": {
    "height": "calc(100% - 180px)",
    "left": "10px",
    "top": "150px",
    "width": "392px"
   },
   "toc_section_display": true,
   "toc_window_display": true
  },
  "varInspector": {
   "cols": {
    "lenName": 16,
    "lenType": 16,
    "lenVar": 40
   },
   "kernels_config": {
    "python": {
     "delete_cmd_postfix": "",
     "delete_cmd_prefix": "del ",
     "library": "var_list.py",
     "varRefreshCmd": "print(var_dic_list())"
    },
    "r": {
     "delete_cmd_postfix": ") ",
     "delete_cmd_prefix": "rm(",
     "library": "var_list.r",
     "varRefreshCmd": "cat(var_dic_list()) "
    }
   },
   "types_to_exclude": [
    "module",
    "function",
    "builtin_function_or_method",
    "instance",
    "_Feature"
   ],
   "window_display": false
  }
 },
 "nbformat": 4,
 "nbformat_minor": 4
}
